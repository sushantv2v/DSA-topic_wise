{
 "cells": [
  {
   "cell_type": "code",
   "execution_count": 1,
   "id": "cc390fa0",
   "metadata": {
    "_cell_guid": "b1076dfc-b9ad-4769-8c92-a6c4dae69d19",
    "_uuid": "8f2839f25d086af736a60e9eeb907d3b93b6e0e5",
    "execution": {
     "iopub.execute_input": "2023-11-24T17:41:53.540118Z",
     "iopub.status.busy": "2023-11-24T17:41:53.539759Z",
     "iopub.status.idle": "2023-11-24T17:41:54.291886Z",
     "shell.execute_reply": "2023-11-24T17:41:54.290975Z"
    },
    "papermill": {
     "duration": 0.761353,
     "end_time": "2023-11-24T17:41:54.294665",
     "exception": false,
     "start_time": "2023-11-24T17:41:53.533312",
     "status": "completed"
    },
    "tags": []
   },
   "outputs": [],
   "source": [
    "# This Python 3 environment comes with many helpful analytics libraries installed\n",
    "# It is defined by the kaggle/python Docker image: https://github.com/kaggle/docker-python\n",
    "# For example, here's several helpful packages to load\n",
    "\n",
    "import numpy as np # linear algebra\n",
    "import pandas as pd # data processing, CSV file I/O (e.g. pd.read_csv)\n",
    "\n",
    "# Input data files are available in the read-only \"../input/\" directory\n",
    "# For example, running this (by clicking run or pressing Shift+Enter) will list all files under the input directory\n",
    "\n",
    "import os\n",
    "for dirname, _, filenames in os.walk('/kaggle/input'):\n",
    "    for filename in filenames:\n",
    "        print(os.path.join(dirname, filename))\n",
    "\n",
    "# You can write up to 20GB to the current directory (/kaggle/working/) that gets preserved as output when you create a version using \"Save & Run All\" \n",
    "# You can also write temporary files to /kaggle/temp/, but they won't be saved outside of the current session"
   ]
  },
  {
   "cell_type": "markdown",
   "id": "a81c7bea",
   "metadata": {
    "papermill": {
     "duration": 0.00388,
     "end_time": "2023-11-24T17:41:54.304689",
     "exception": false,
     "start_time": "2023-11-24T17:41:54.300809",
     "status": "completed"
    },
    "tags": []
   },
   "source": [
    "String\n",
    "\n",
    "- Longest Substring Without Repeating Characters - https://leetcode.com/problems/longest-substring-without-repeating-characters/\n",
    "- Longest Repeating Character Replacement - https://leetcode.com/problems/longest-repeating-character-replacement/\n",
    "- Minimum Window Substring - https://leetcode.com/problems/minimum-window-substring/\n",
    "- Valid Anagram - https://leetcode.com/problems/valid-anagram/\n",
    "- Group Anagrams - https://leetcode.com/problems/group-anagrams/\n",
    "- Valid Parentheses - https://leetcode.com/problems/valid-parentheses/\n",
    "- Valid Palindrome - https://leetcode.com/problems/valid-palindrome/\n",
    "- Longest Palindromic Substring - https://leetcode.com/problems/longest-palindromic-substring/\n",
    "- Palindromic Substrings - https://leetcode.com/problems/palindromic-substrings/\n",
    "- Encode and Decode Strings (Leetcode Premium) - https://leetcode.com/problems/encode-and-decode-strings/"
   ]
  },
  {
   "cell_type": "markdown",
   "id": "a05b995f",
   "metadata": {
    "papermill": {
     "duration": 0.003687,
     "end_time": "2023-11-24T17:41:54.312124",
     "exception": false,
     "start_time": "2023-11-24T17:41:54.308437",
     "status": "completed"
    },
    "tags": []
   },
   "source": [
    "# **Valid Palindrome**\n",
    "\n",
    "A phrase is a palindrome if, after converting all uppercase letters into lowercase letters and removing all non-alphanumeric characters, it reads the same forward and backward. Alphanumeric characters include letters and numbers.\n",
    "\n",
    "Given a string s, return true if it is a palindrome, or false otherwise.\n",
    "\n",
    " \n",
    "\n",
    "Example 1:\n",
    "\n",
    "Input: s = \"A man, a plan, a canal: Panama\"\n",
    "Output: true\n",
    "Explanation: \"amanaplanacanalpanama\" is a palindrome.\n",
    "Example 2:\n",
    "\n",
    "Input: s = \"race a car\"\n",
    "Output: false\n",
    "Explanation: \"raceacar\" is not a palindrome.\n",
    "Example 3:\n",
    "\n",
    "Input: s = \" \"\n",
    "Output: true\n",
    "Explanation: s is an empty string \"\" after removing non-alphanumeric characters.\n",
    "Since an empty string reads the same forward and backward, it is a palindrome."
   ]
  },
  {
   "cell_type": "code",
   "execution_count": 2,
   "id": "a18a924c",
   "metadata": {
    "execution": {
     "iopub.execute_input": "2023-11-24T17:41:54.321724Z",
     "iopub.status.busy": "2023-11-24T17:41:54.321236Z",
     "iopub.status.idle": "2023-11-24T17:41:54.330109Z",
     "shell.execute_reply": "2023-11-24T17:41:54.329131Z"
    },
    "papermill": {
     "duration": 0.017244,
     "end_time": "2023-11-24T17:41:54.333398",
     "exception": false,
     "start_time": "2023-11-24T17:41:54.316154",
     "status": "completed"
    },
    "tags": []
   },
   "outputs": [
    {
     "data": {
      "text/plain": [
       "True"
      ]
     },
     "execution_count": 2,
     "metadata": {},
     "output_type": "execute_result"
    }
   ],
   "source": [
    "def Valid_palindrome(s):\n",
    "    \n",
    "    s1 = \"\"\n",
    "    \n",
    "    for c in s.lower():\n",
    "        \n",
    "        if c.isalnum():\n",
    "            \n",
    "            s1+=c\n",
    "    return True if s1==s1[::-1] else False  \n",
    "\n",
    "\n",
    "Valid_palindrome( \"A man, a plan, a canal: Panama\")"
   ]
  },
  {
   "cell_type": "markdown",
   "id": "35c136eb",
   "metadata": {
    "papermill": {
     "duration": 0.004034,
     "end_time": "2023-11-24T17:41:54.341999",
     "exception": false,
     "start_time": "2023-11-24T17:41:54.337965",
     "status": "completed"
    },
    "tags": []
   },
   "source": [
    "# **Longest Substring Without Repeating Characters**\n",
    "\n",
    "Given a string s, find the length of the longest \n",
    "substring\n",
    " without repeating characters.\n",
    "\n",
    " \n",
    "\n",
    "Example 1:\n",
    "\n",
    "Input: s = \"abcabcbb\"\n",
    "Output: 3\n",
    "Explanation: The answer is \"abc\", with the length of 3.\n",
    "\n",
    "Example 2:\n",
    "\n",
    "Input: s = \"bbbbb\"\n",
    "Output: 1\n",
    "Explanation: The answer is \"b\", with the length of 1.\n",
    "\n",
    "Example 3:\n",
    "\n",
    "Input: s = \"pwwkew\"\n",
    "\n",
    "Output: 3\n",
    "Explanation: The answer is \"wke\", with the length of 3.\n",
    "Notice that the answer must be a substring, \"pwke\" is a subsequence and not a substring.\n",
    " \n",
    "\n",
    "Constraints:\n",
    "\n",
    "0 <= s.length <= 5 * 104\n",
    "\n",
    "s consists of English letters, digits, symbols and spaces."
   ]
  },
  {
   "cell_type": "code",
   "execution_count": 3,
   "id": "323a3fcf",
   "metadata": {
    "execution": {
     "iopub.execute_input": "2023-11-24T17:41:54.351700Z",
     "iopub.status.busy": "2023-11-24T17:41:54.351350Z",
     "iopub.status.idle": "2023-11-24T17:41:54.360509Z",
     "shell.execute_reply": "2023-11-24T17:41:54.359547Z"
    },
    "papermill": {
     "duration": 0.016801,
     "end_time": "2023-11-24T17:41:54.362917",
     "exception": false,
     "start_time": "2023-11-24T17:41:54.346116",
     "status": "completed"
    },
    "tags": []
   },
   "outputs": [
    {
     "data": {
      "text/plain": [
       "3"
      ]
     },
     "execution_count": 3,
     "metadata": {},
     "output_type": "execute_result"
    }
   ],
   "source": [
    "def Long_substring(s):\n",
    "    \n",
    "    \n",
    "    char_set = set()\n",
    "    res = 0 \n",
    "    l = 0 \n",
    "    \n",
    "    for i in range(0,len(s)):\n",
    "        \n",
    "        while s[i] in char_set:\n",
    "            \n",
    "            char_set.remove(s[l])\n",
    "            \n",
    "            l+=1\n",
    "        char_set.add(s[i])    \n",
    "        res = max(res, i-l+1)\n",
    "        \n",
    "    return res    \n",
    "\n",
    "Long_substring('pwwkew')"
   ]
  },
  {
   "cell_type": "markdown",
   "id": "e41c37cf",
   "metadata": {
    "papermill": {
     "duration": 0.004288,
     "end_time": "2023-11-24T17:41:54.371581",
     "exception": false,
     "start_time": "2023-11-24T17:41:54.367293",
     "status": "completed"
    },
    "tags": []
   },
   "source": [
    "#  **Valid Anagram**\n",
    "\n",
    "Given two strings s and t, return true if t is an anagram of s, and false otherwise.\n",
    "\n",
    "An Anagram is a word or phrase formed by rearranging the letters of a different word or phrase, typically using all the original letters exactly once.\n",
    "\n",
    " \n",
    "\n",
    "Example 1:\n",
    "\n",
    "Input: s = \"anagram\", t = \"nagaram\"\n",
    "Output: true\n",
    "Example 2:\n",
    "\n",
    "Input: s = \"rat\", t = \"car\"\n",
    "Output: false\n"
   ]
  },
  {
   "cell_type": "code",
   "execution_count": 4,
   "id": "e7a9536b",
   "metadata": {
    "execution": {
     "iopub.execute_input": "2023-11-24T17:41:54.381498Z",
     "iopub.status.busy": "2023-11-24T17:41:54.381184Z",
     "iopub.status.idle": "2023-11-24T17:41:54.388675Z",
     "shell.execute_reply": "2023-11-24T17:41:54.387692Z"
    },
    "papermill": {
     "duration": 0.014881,
     "end_time": "2023-11-24T17:41:54.390825",
     "exception": false,
     "start_time": "2023-11-24T17:41:54.375944",
     "status": "completed"
    },
    "tags": []
   },
   "outputs": [],
   "source": [
    "def isAnagram(s,t):\n",
    "    \n",
    "    if len(s) != len(t):\n",
    "        return False\n",
    "    \n",
    "    s_dict,t_dict = {},{}\n",
    "    \n",
    "    for i in s:\n",
    "        \n",
    "        if i in s_dict.keys():\n",
    "            \n",
    "            s_dict[i] +=1\n",
    "        else:\n",
    "            \n",
    "            s_dict[i] =1\n",
    "    \n",
    "    for j in t:\n",
    "        \n",
    "        if j in t_dict.keys():\n",
    "            \n",
    "            t_dict[j] +=1\n",
    "        else:\n",
    "            \n",
    "            t_dict[j] = 1\n",
    "    if t_dict == s_dict:\n",
    "        return True\n",
    "    \n",
    "    else:\n",
    "        return False\n",
    "    "
   ]
  },
  {
   "cell_type": "code",
   "execution_count": 5,
   "id": "34242043",
   "metadata": {
    "execution": {
     "iopub.execute_input": "2023-11-24T17:41:54.400700Z",
     "iopub.status.busy": "2023-11-24T17:41:54.400372Z",
     "iopub.status.idle": "2023-11-24T17:41:54.406491Z",
     "shell.execute_reply": "2023-11-24T17:41:54.405789Z"
    },
    "papermill": {
     "duration": 0.013262,
     "end_time": "2023-11-24T17:41:54.408373",
     "exception": false,
     "start_time": "2023-11-24T17:41:54.395111",
     "status": "completed"
    },
    "tags": []
   },
   "outputs": [
    {
     "data": {
      "text/plain": [
       "True"
      ]
     },
     "execution_count": 5,
     "metadata": {},
     "output_type": "execute_result"
    }
   ],
   "source": [
    "s = \"anagram\"\n",
    "t = \"nagaram\"\n",
    "isAnagram(s,t)"
   ]
  },
  {
   "cell_type": "markdown",
   "id": "b2e96984",
   "metadata": {
    "papermill": {
     "duration": 0.00488,
     "end_time": "2023-11-24T17:41:54.417732",
     "exception": false,
     "start_time": "2023-11-24T17:41:54.412852",
     "status": "completed"
    },
    "tags": []
   },
   "source": [
    "Tree\n",
    "\n",
    "- Maximum Depth of Binary Tree - https://leetcode.com/problems/maximum-depth-of-binary-tree/\n",
    "- Same Tree - https://leetcode.com/problems/same-tree/\n",
    "- Invert/Flip Binary Tree - https://leetcode.com/problems/invert-binary-tree/\n",
    "- Binary Tree Maximum Path Sum - https://leetcode.com/problems/binary-tree-maximum-path-sum/\n",
    "- Binary Tree Level Order Traversal - https://leetcode.com/problems/binary-tree-level-order-traversal/\n",
    "- Serialize and Deserialize Binary Tree - https://leetcode.com/problems/serialize-and-deserialize-binary-tree/\n",
    "- Subtree of Another Tree - https://leetcode.com/problems/subtree-of-another-tree/\n",
    "- Construct Binary Tree from Preorder and Inorder Traversal - https://leetcode.com/problems/construct-binary-tree-from-preorder-and-inorder-traversal/\n",
    "- Validate Binary Search Tree - https://leetcode.com/problems/validate-binary-search-tree/\n",
    "- Kth Smallest Element in a BST - https://leetcode.com/problems/kth-smallest-element-in-a-bst/\n",
    "- Lowest Common Ancestor of BST - https://leetcode.com/problems/lowest-common-ancestor-of-a-binary-search-tree/\n",
    "- Implement Trie (Prefix Tree) - https://leetcode.com/problems/implement-trie-prefix-tree/\n",
    "- Add and Search Word - https://leetcode.com/problems/add-and-search-word-data-structure-design/\n",
    "- Word Search II - https://leetcode.com/problems/word-search-ii/\n"
   ]
  },
  {
   "cell_type": "markdown",
   "id": "583a7cc6",
   "metadata": {
    "papermill": {
     "duration": 0.004376,
     "end_time": "2023-11-24T17:41:54.426718",
     "exception": false,
     "start_time": "2023-11-24T17:41:54.422342",
     "status": "completed"
    },
    "tags": []
   },
   "source": [
    "Heap\n",
    "\n",
    "- Merge K Sorted Lists - https://leetcode.com/problems/merge-k-sorted-lists/\n",
    "- Top K Frequent Elements - https://leetcode.com/problems/top-k-frequent-elements/\n",
    "- Find Median from Data Stream - https://leetcode.com/problems/find-median-from-data-stream/\n"
   ]
  },
  {
   "cell_type": "code",
   "execution_count": null,
   "id": "460f65cc",
   "metadata": {
    "papermill": {
     "duration": 0.004618,
     "end_time": "2023-11-24T17:41:54.435987",
     "exception": false,
     "start_time": "2023-11-24T17:41:54.431369",
     "status": "completed"
    },
    "tags": []
   },
   "outputs": [],
   "source": []
  }
 ],
 "metadata": {
  "kaggle": {
   "accelerator": "none",
   "dataSources": [],
   "dockerImageVersionId": 30558,
   "isGpuEnabled": false,
   "isInternetEnabled": true,
   "language": "python",
   "sourceType": "notebook"
  },
  "kernelspec": {
   "display_name": "Python 3",
   "language": "python",
   "name": "python3"
  },
  "language_info": {
   "codemirror_mode": {
    "name": "ipython",
    "version": 3
   },
   "file_extension": ".py",
   "mimetype": "text/x-python",
   "name": "python",
   "nbconvert_exporter": "python",
   "pygments_lexer": "ipython3",
   "version": "3.10.12"
  },
  "papermill": {
   "default_parameters": {},
   "duration": 5.032795,
   "end_time": "2023-11-24T17:41:54.759729",
   "environment_variables": {},
   "exception": null,
   "input_path": "__notebook__.ipynb",
   "output_path": "__notebook__.ipynb",
   "parameters": {},
   "start_time": "2023-11-24T17:41:49.726934",
   "version": "2.4.0"
  }
 },
 "nbformat": 4,
 "nbformat_minor": 5
}
