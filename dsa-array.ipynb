{
 "cells": [
  {
   "cell_type": "markdown",
   "id": "f3564f12",
   "metadata": {
    "_cell_guid": "b1076dfc-b9ad-4769-8c92-a6c4dae69d19",
    "_uuid": "8f2839f25d086af736a60e9eeb907d3b93b6e0e5",
    "papermill": {
     "duration": 0.005451,
     "end_time": "2023-10-23T05:43:45.134828",
     "exception": false,
     "start_time": "2023-10-23T05:43:45.129377",
     "status": "completed"
    },
    "tags": []
   },
   "source": [
    "In this notebook we will be solving the DSA question of array. I am selecting few questions from \n",
    "Array\n",
    "\n",
    "- Two Sum - https://leetcode.com/problems/two-sum/\n",
    "- Best Time to Buy and Sell Stock - https://leetcode.com/problems/best-time-to-buy-and-sell-stock/\n",
    "- Contains Duplicate - https://leetcode.com/problems/contains-duplicate/\n",
    "- Product of Array Except Self - https://leetcode.com/problems/product-of-array-except-self/\n",
    "- Maximum Subarray - https://leetcode.com/problems/maximum-subarray/\n",
    "- Maximum Product Subarray - https://leetcode.com/problems/maximum-product-subarray/\n",
    "- Find Minimum in Rotated Sorted Array - https://leetcode.com/problems/find-minimum-in-rotated-sorted-array/\n",
    "- Search in Rotated Sorted Array - https://leetcode.com/problems/search-in-rotated-sorted-array/\n",
    "- 3Sum - https://leetcode.com/problems/3sum/\n",
    "- Container With Most Water - https://leetcode.com/problems/container-with-most-water/"
   ]
  },
  {
   "cell_type": "markdown",
   "id": "551e9b80",
   "metadata": {
    "papermill": {
     "duration": 0.004171,
     "end_time": "2023-10-23T05:43:45.146701",
     "exception": false,
     "start_time": "2023-10-23T05:43:45.142530",
     "status": "completed"
    },
    "tags": []
   },
   "source": [
    "# ***Two Sum***"
   ]
  },
  {
   "cell_type": "markdown",
   "id": "0119788c",
   "metadata": {
    "papermill": {
     "duration": 0.004248,
     "end_time": "2023-10-23T05:43:45.155431",
     "exception": false,
     "start_time": "2023-10-23T05:43:45.151183",
     "status": "completed"
    },
    "tags": []
   },
   "source": [
    "[2,7,11,15]Given an array of integers nums and an integer target, return indices of the two numbers such that they add up to target.\n",
    "\n",
    "You may assume that each input would have exactly one solution, and you may not use the same element twice.\n",
    "\n",
    "You can return the answer in any order.\n",
    "\n",
    " \n",
    "\n",
    "Example 1:\n",
    "\n",
    "Input: nums = [2,7,11,15], target = 9\n",
    "Output: [0,1]\n",
    "Explanation: Because nums[0] + nums[1] == 9, we return [0, 1].\n",
    "Example 2:\n",
    "\n",
    "Input: nums = [3,2,4], target = 6\n",
    "Output: [1,2]\n",
    "Example 3:\n",
    "\n",
    "Input: nums = [3,3], target = 6\n",
    "Output: [0,1]\n",
    " "
   ]
  },
  {
   "cell_type": "code",
   "execution_count": 1,
   "id": "2ec09739",
   "metadata": {
    "execution": {
     "iopub.execute_input": "2023-10-23T05:43:45.167506Z",
     "iopub.status.busy": "2023-10-23T05:43:45.166634Z",
     "iopub.status.idle": "2023-10-23T05:43:45.181483Z",
     "shell.execute_reply": "2023-10-23T05:43:45.178704Z"
    },
    "papermill": {
     "duration": 0.025286,
     "end_time": "2023-10-23T05:43:45.185340",
     "exception": false,
     "start_time": "2023-10-23T05:43:45.160054",
     "status": "completed"
    },
    "tags": []
   },
   "outputs": [
    {
     "name": "stdout",
     "output_type": "stream",
     "text": [
      "(0, 2)\n"
     ]
    }
   ],
   "source": [
    "def two_sum(input_array,output):\n",
    "    \n",
    "    #creating a dict to save the second numbers\n",
    "    dict_map = {}\n",
    "    \n",
    "    #looping over the list \n",
    "    for i in range(0,len(input_array)):\n",
    "        \n",
    "        #finding the second number \n",
    "        second_number=  output - input_array[i]\n",
    "        \n",
    "        #checking if it is present in dict or not \n",
    "        if second_number in dict_map:\n",
    "            return (dict_map[second_number],i)\n",
    "        \n",
    "        #adding the number to dict \n",
    "        dict_map[input_array[i]] = i\n",
    "    \n",
    "    return (-1,-1)\n",
    "        \n",
    "        \n",
    "print(two_sum([3,2,4],7))"
   ]
  },
  {
   "cell_type": "markdown",
   "id": "dca71e3f",
   "metadata": {
    "papermill": {
     "duration": 0.004974,
     "end_time": "2023-10-23T05:43:45.195605",
     "exception": false,
     "start_time": "2023-10-23T05:43:45.190631",
     "status": "completed"
    },
    "tags": []
   },
   "source": [
    "# **Best Time to Buy and Sell Stock**\n",
    "\n",
    "You are given an array prices where prices[i] is the price of a given stock on the ith day.\n",
    "\n",
    "You want to maximize your profit by choosing a single day to buy one stock and choosing a different day in the future to sell that stock.\n",
    "\n",
    "Return the maximum profit you can achieve from this transaction. If you cannot achieve any profit, return 0.\n",
    "\n",
    " \n",
    "\n",
    "Example 1:\n",
    "\n",
    "Input: prices = [7,1,5,3,6,4]\n",
    "Output: 5\n",
    "Explanation: Buy on day 2 (price = 1) and sell on day 5 (price = 6), profit = 6-1 = 5.\n",
    "Note that buying on day 2 and selling on day 1 is not allowed because you must buy before you sell.\n",
    "Example 2:\n",
    "\n",
    "Input: prices = [7,6,4,3,1]\n",
    "Output: 0\n",
    "Explanation: In this case, no transactions are done and the max profit = 0.\n"
   ]
  },
  {
   "cell_type": "code",
   "execution_count": 2,
   "id": "8e2c0d8b",
   "metadata": {
    "execution": {
     "iopub.execute_input": "2023-10-23T05:43:45.209013Z",
     "iopub.status.busy": "2023-10-23T05:43:45.208499Z",
     "iopub.status.idle": "2023-10-23T05:43:45.219972Z",
     "shell.execute_reply": "2023-10-23T05:43:45.217526Z"
    },
    "papermill": {
     "duration": 0.022237,
     "end_time": "2023-10-23T05:43:45.223064",
     "exception": false,
     "start_time": "2023-10-23T05:43:45.200827",
     "status": "completed"
    },
    "tags": []
   },
   "outputs": [
    {
     "data": {
      "text/plain": [
       "6"
      ]
     },
     "execution_count": 2,
     "metadata": {},
     "output_type": "execute_result"
    }
   ],
   "source": [
    "def best_time_to_buy_sell(lst):\n",
    "    \n",
    "    buy, sell = lst[0],lst[0]\n",
    "    current_profit = sell - buy \n",
    "    \n",
    "    \n",
    "    for price in lst:\n",
    "        \n",
    "        if buy > price:\n",
    "            \n",
    "            buy = price\n",
    "            sell = price\n",
    "            \n",
    "        elif buy < price:\n",
    "            \n",
    "            sell = price\n",
    "            \n",
    "            if current_profit < sell-buy:\n",
    "                current_profit = sell - buy \n",
    "     \n",
    "    return current_profit \n",
    "            \n",
    "            \n",
    "    \n",
    "    \n",
    "    \n",
    "best_time_to_buy_sell([1,7,1,5,3,6,4])    \n",
    "    \n",
    "    \n",
    "    "
   ]
  },
  {
   "cell_type": "markdown",
   "id": "b774bda6",
   "metadata": {
    "papermill": {
     "duration": 0.004545,
     "end_time": "2023-10-23T05:43:45.232949",
     "exception": false,
     "start_time": "2023-10-23T05:43:45.228404",
     "status": "completed"
    },
    "tags": []
   },
   "source": [
    "# **Contains Duplicate**\n",
    "\n",
    "Given an integer array nums, return true if any value appears at least twice in the array, and return false if every element is distinct.\n",
    "\n",
    " \n",
    "\n",
    "Example 1:\n",
    "\n",
    "Input: nums = [1,2,3,1]\n",
    "Output: true\n",
    "Example 2:\n",
    "\n",
    "Input: nums = [1,2,3,4]\n",
    "Output: false\n",
    "Example 3:\n",
    "\n",
    "Input: nums = [1,1,1,3,3,4,3,2,4,2]\n",
    "Output: true\n"
   ]
  },
  {
   "cell_type": "code",
   "execution_count": 3,
   "id": "f02a973d",
   "metadata": {
    "execution": {
     "iopub.execute_input": "2023-10-23T05:43:45.245148Z",
     "iopub.status.busy": "2023-10-23T05:43:45.244638Z",
     "iopub.status.idle": "2023-10-23T05:43:45.252654Z",
     "shell.execute_reply": "2023-10-23T05:43:45.251593Z"
    },
    "papermill": {
     "duration": 0.017086,
     "end_time": "2023-10-23T05:43:45.254643",
     "exception": false,
     "start_time": "2023-10-23T05:43:45.237557",
     "status": "completed"
    },
    "tags": []
   },
   "outputs": [
    {
     "data": {
      "text/plain": [
       "True"
      ]
     },
     "execution_count": 3,
     "metadata": {},
     "output_type": "execute_result"
    }
   ],
   "source": [
    "def contain_duplicate(lst):\n",
    "    \n",
    "    nums_set = set()\n",
    "    \n",
    "    for i in lst:\n",
    "        \n",
    "        if i in nums_set:\n",
    "            return True\n",
    "        else:\n",
    "            nums_set.add(i)\n",
    "    return False        \n",
    "    \n",
    "    \n",
    "contain_duplicate([1,2,3,4,5,6,1])    "
   ]
  },
  {
   "cell_type": "markdown",
   "id": "d841ba12",
   "metadata": {
    "papermill": {
     "duration": 0.005008,
     "end_time": "2023-10-23T05:43:45.265555",
     "exception": false,
     "start_time": "2023-10-23T05:43:45.260547",
     "status": "completed"
    },
    "tags": []
   },
   "source": [
    "# **Product of Array Except Self**\n",
    "\n",
    "Given an integer array nums, return an array answer such that answer[i] is equal to the product of all the elements of nums except nums[i].\n",
    "\n",
    "The product of any prefix or suffix of nums is guaranteed to fit in a 32-bit integer.\n",
    "\n",
    "You must write an algorithm that runs in O(n) time and without using the division operation.\n",
    "\n",
    " \n",
    "\n",
    "Example 1:\n",
    "\n",
    "Input: nums = [1,2,3,4]\n",
    "Output: [24,12,8,6]\n",
    "\n",
    "Example 2:\n",
    "\n",
    "Input: nums = [-1,1,0,-3,3]\n",
    "Output: [0,0,9,0,0]\n",
    " \n",
    "\n",
    "Constraints:\n",
    "\n",
    "2 <= nums.length <= 105\n",
    "-30 <= nums[i] <= 30\n",
    "The product of any prefix or suffix of nums is guaranteed to fit in a 32-bit integer.\n",
    " \n",
    "\n",
    "Follow up: Can you solve the problem in O(1) extra space complexity? (The output array does not count as extra space for space complexity analysis.)"
   ]
  },
  {
   "cell_type": "code",
   "execution_count": 4,
   "id": "928a3e99",
   "metadata": {
    "execution": {
     "iopub.execute_input": "2023-10-23T05:43:45.278490Z",
     "iopub.status.busy": "2023-10-23T05:43:45.277979Z",
     "iopub.status.idle": "2023-10-23T05:43:45.292798Z",
     "shell.execute_reply": "2023-10-23T05:43:45.290991Z"
    },
    "papermill": {
     "duration": 0.025549,
     "end_time": "2023-10-23T05:43:45.296247",
     "exception": false,
     "start_time": "2023-10-23T05:43:45.270698",
     "status": "completed"
    },
    "tags": []
   },
   "outputs": [
    {
     "data": {
      "text/plain": [
       "[24, 12, 8, 6]"
      ]
     },
     "execution_count": 4,
     "metadata": {},
     "output_type": "execute_result"
    }
   ],
   "source": [
    "#watch this video : https://www.youtube.com/watch?v=G9zKmhybKBM\n",
    "\n",
    "def array_except_self(lst):\n",
    "    #for edge case where list have only one element\n",
    "    \n",
    "    if len(lst)==1:\n",
    "        return [0]\n",
    "    \n",
    "    #creating 3 list \n",
    "    left_array = [0]*len(lst)\n",
    "    right_array = [0]*len(lst)\n",
    "    prod = [0]*len(lst)\n",
    "    \n",
    "    left_array[0] = 1\n",
    "    right_array[-1] = 1\n",
    "    \n",
    "    for i in range(1,len(lst)):\n",
    "        \n",
    "        left_array[i] = left_array[i-1]*lst[i-1]\n",
    "        \n",
    "    for i in range(len(lst)-2,-1,-1):\n",
    "        \n",
    "        right_array[i] = right_array[i+1]*lst[i+1]  \n",
    "    \n",
    "    for i in range(0,len(lst)):\n",
    "        \n",
    "        prod[i] =  left_array[i]*right_array[i]\n",
    "    \n",
    "    return prod  \n",
    "        \n",
    "        \n",
    "        \n",
    "array_except_self([1,2,3,4])        "
   ]
  },
  {
   "cell_type": "markdown",
   "id": "489cd072",
   "metadata": {
    "papermill": {
     "duration": 0.005775,
     "end_time": "2023-10-23T05:43:45.307254",
     "exception": false,
     "start_time": "2023-10-23T05:43:45.301479",
     "status": "completed"
    },
    "tags": []
   },
   "source": [
    "# **Maximum Subarray**\n",
    "\n",
    "Given an integer array nums, find the \n",
    "subarray\n",
    " with the largest sum, and return its sum.\n",
    "\n",
    " \n",
    "\n",
    "Example 1:\n",
    "\n",
    "Input: nums = [-2,1,-3,4,-1,2,1,-5,4]\n",
    "Output: 6\n",
    "Explanation: The subarray [4,-1,2,1] has the largest sum 6.\n",
    "Example 2:\n",
    "\n",
    "Input: nums = [1]\n",
    "Output: 1\n",
    "Explanation: The subarray [1] has the largest sum 1.\n",
    "Example 3:\n",
    "\n",
    "Input: nums = [5,4,-1,7,8]\n",
    "Output: 23\n",
    "Explanation: The subarray [5,4,-1,7,8] has the largest sum 23."
   ]
  },
  {
   "cell_type": "code",
   "execution_count": 5,
   "id": "cafc3541",
   "metadata": {
    "execution": {
     "iopub.execute_input": "2023-10-23T05:43:45.323086Z",
     "iopub.status.busy": "2023-10-23T05:43:45.322520Z",
     "iopub.status.idle": "2023-10-23T05:43:45.333245Z",
     "shell.execute_reply": "2023-10-23T05:43:45.331361Z"
    },
    "papermill": {
     "duration": 0.021336,
     "end_time": "2023-10-23T05:43:45.335703",
     "exception": false,
     "start_time": "2023-10-23T05:43:45.314367",
     "status": "completed"
    },
    "tags": []
   },
   "outputs": [
    {
     "data": {
      "text/plain": [
       "6"
      ]
     },
     "execution_count": 5,
     "metadata": {},
     "output_type": "execute_result"
    }
   ],
   "source": [
    "#watch this video : https://www.youtube.com/watch?v=HCL4_bOd3-4&t=637s\n",
    "\n",
    "#here we changed final max to large negartive to handle edgecase where all the element in list are negative\n",
    "\n",
    "#problem of DPP \n",
    "\n",
    "def kaddanse_algo_method(lst):\n",
    "    \n",
    "    \n",
    "    current_max = 0\n",
    "    final_max = -1000000\n",
    "    \n",
    "    for i in lst:\n",
    "        \n",
    "        current_max = current_max + i\n",
    "        \n",
    "        if current_max > final_max:\n",
    "            final_max = current_max\n",
    "        \n",
    "        if current_max <0:\n",
    "            current_max = 0\n",
    "            \n",
    "    return final_max        \n",
    "\n",
    "kaddanse_algo_method([-2,1,-3,4,-1,2,1,-5,4])"
   ]
  },
  {
   "cell_type": "markdown",
   "id": "ae9829db",
   "metadata": {
    "papermill": {
     "duration": 0.005872,
     "end_time": "2023-10-23T05:43:45.346883",
     "exception": false,
     "start_time": "2023-10-23T05:43:45.341011",
     "status": "completed"
    },
    "tags": []
   },
   "source": [
    "#  **Maximum Product Subarray**\n",
    "\n",
    "Given an integer array nums, find a \n",
    "subarray\n",
    " that has the largest product, and return the product.\n",
    "\n",
    "The test cases are generated so that the answer will fit in a 32-bit integer.\n",
    "\n",
    " \n",
    "\n",
    "Example 1:\n",
    "\n",
    "Input: nums = [2,3,-2,4]\n",
    "Output: 6\n",
    "Explanation: [2,3] has the largest product 6.\n",
    "\n",
    "Example 2:\n",
    "\n",
    "Input: nums = [-2,0,-1]\n",
    "Output: 0\n",
    "Explanation: The result cannot be 2, because [-2,-1] is not a subarray.\n",
    " \n",
    "\n",
    "Constraints:\n",
    "\n",
    "1 <= nums.length <= 2 * 104\n",
    "-10 <= nums[i] <= 10\n",
    "The product of any prefix or suffix of nums is guaranteed to fit in a 32-bit integer."
   ]
  },
  {
   "cell_type": "code",
   "execution_count": 6,
   "id": "d042d162",
   "metadata": {
    "execution": {
     "iopub.execute_input": "2023-10-23T05:43:45.360061Z",
     "iopub.status.busy": "2023-10-23T05:43:45.359563Z",
     "iopub.status.idle": "2023-10-23T05:43:45.372073Z",
     "shell.execute_reply": "2023-10-23T05:43:45.369326Z"
    },
    "papermill": {
     "duration": 0.023684,
     "end_time": "2023-10-23T05:43:45.375880",
     "exception": false,
     "start_time": "2023-10-23T05:43:45.352196",
     "status": "completed"
    },
    "tags": []
   },
   "outputs": [
    {
     "data": {
      "text/plain": [
       "49896"
      ]
     },
     "execution_count": 6,
     "metadata": {},
     "output_type": "execute_result"
    }
   ],
   "source": [
    "def max_product_subarray(lst):\n",
    "    \n",
    "    max_prod = 1\n",
    "    min_prod = 1 \n",
    "    ans = lst[0]\n",
    "    \n",
    "    if len(lst)==1:\n",
    "        return lst[0]\n",
    "    \n",
    "    \n",
    "    for i in range(0,len(lst)):\n",
    "        \n",
    "        \n",
    "        if lst[i] <0:\n",
    "            # because after multyping it by negative once it will interchange \n",
    "            max_prod , min_prod = min_prod, max_prod \n",
    "        #finding max product as positive prod         \n",
    "        max_prod = max(lst[i], max_prod*lst[i])\n",
    "        #also saving min prod so if negative will come i will switch back on it \n",
    "        min_prod = min(lst[i], min_prod*lst[i])\n",
    "            \n",
    "            \n",
    "            \n",
    "        ans = max(ans,max_prod )\n",
    "    return ans         \n",
    "    \n",
    "    \n",
    "    \n",
    "max_product_subarray([1,2,-5,-44,54,-21])    \n",
    "    \n",
    "    \n",
    "    "
   ]
  },
  {
   "cell_type": "code",
   "execution_count": 7,
   "id": "848c58a5",
   "metadata": {
    "execution": {
     "iopub.execute_input": "2023-10-23T05:43:45.389425Z",
     "iopub.status.busy": "2023-10-23T05:43:45.389035Z",
     "iopub.status.idle": "2023-10-23T05:43:45.397204Z",
     "shell.execute_reply": "2023-10-23T05:43:45.396321Z"
    },
    "papermill": {
     "duration": 0.017793,
     "end_time": "2023-10-23T05:43:45.399224",
     "exception": false,
     "start_time": "2023-10-23T05:43:45.381431",
     "status": "completed"
    },
    "tags": []
   },
   "outputs": [],
   "source": [
    "def binary_search(arr, x):\n",
    "    \"\"\"\n",
    "    Perform binary search to find x in arr\n",
    "    \n",
    "    :param arr: A sorted list of items.\n",
    "    :param x: The item to search for.\n",
    "    :return: The index of x if x exists in arr, otherwise -1.\n",
    "    \"\"\"\n",
    "    l = 0\n",
    "    r = len(arr) - 1\n",
    "\n",
    "    while l <= r:\n",
    "        mid = (l + r) // 2\n",
    "        \n",
    "        # If the element is present at the middle itself\n",
    "        if arr[mid] == x:\n",
    "            return mid\n",
    "        \n",
    "        # If element is smaller than mid, then it can only be present in the left subarray\n",
    "        elif arr[mid] < x:\n",
    "            l = mid + 1\n",
    "        \n",
    "        # Else the element can only be present in the right subarray\n",
    "        else:\n",
    "            r = mid - 1\n",
    "\n",
    "    # If we reach here, then the element was not present in the array\n",
    "    return -1\n"
   ]
  },
  {
   "cell_type": "code",
   "execution_count": 8,
   "id": "1db39699",
   "metadata": {
    "execution": {
     "iopub.execute_input": "2023-10-23T05:43:45.412073Z",
     "iopub.status.busy": "2023-10-23T05:43:45.411434Z",
     "iopub.status.idle": "2023-10-23T05:43:45.419153Z",
     "shell.execute_reply": "2023-10-23T05:43:45.417495Z"
    },
    "papermill": {
     "duration": 0.017774,
     "end_time": "2023-10-23T05:43:45.422701",
     "exception": false,
     "start_time": "2023-10-23T05:43:45.404927",
     "status": "completed"
    },
    "tags": []
   },
   "outputs": [
    {
     "name": "stdout",
     "output_type": "stream",
     "text": [
      "Element 7 is present at index 6\n"
     ]
    }
   ],
   "source": [
    "arr = [1, 2, 3, 4, 5, 6, 7, 8, 9, 10]\n",
    "x = 7\n",
    "\n",
    "# Call the function\n",
    "index = binary_search(arr, x)\n",
    "\n",
    "if index != -1:\n",
    "    print(f\"Element {x} is present at index {index}\")\n",
    "else:\n",
    "    print(f\"Element {x} is not present in the array\")\n"
   ]
  },
  {
   "cell_type": "markdown",
   "id": "c4279164",
   "metadata": {
    "papermill": {
     "duration": 0.005876,
     "end_time": "2023-10-23T05:43:45.434502",
     "exception": false,
     "start_time": "2023-10-23T05:43:45.428626",
     "status": "completed"
    },
    "tags": []
   },
   "source": [
    "# **Find Minimum in Rotated Sorted Array**\n",
    "\n",
    "Hint : Suppose an array of length n sorted in ascending order is rotated between 1 and n times. For example, the array nums = [0,1,2,4,5,6,7] might become:\n",
    "\n",
    "[4,5,6,7,0,1,2] if it was rotated 4 times.\n",
    "[0,1,2,4,5,6,7] if it was rotated 7 times.\n",
    "Notice that rotating an array [a[0], a[1], a[2], ..., a[n-1]] 1 time results in the array [a[n-1], a[0], a[1], a[2], ..., a[n-2]].\n",
    "\n",
    "Given the sorted rotated array nums of unique elements, return the minimum element of this array.\n",
    "\n",
    "You must write an algorithm that runs in O(log n) time.\n",
    "\n",
    "Example 1:\n",
    "\n",
    "Input: nums = [3,4,5,1,2]\n",
    "Output: 1\n",
    "Explanation: The original array was [1,2,3,4,5] rotated 3 times.\n",
    "Example 2:\n",
    "\n",
    "Input: nums = [4,5,6,7,0,1,2]\n",
    "Output: 0\n",
    "Explanation: The original array was [0,1,2,4,5,6,7] and it was rotated 4 times.\n",
    "Example 3:\n",
    "\n",
    "Input: nums = [11,13,15,17]\n",
    "Output: 11\n",
    "Explanation: The original array was [11,13,15,17] and it was rotated 4 times."
   ]
  },
  {
   "cell_type": "code",
   "execution_count": 9,
   "id": "e7600952",
   "metadata": {
    "execution": {
     "iopub.execute_input": "2023-10-23T05:43:45.447446Z",
     "iopub.status.busy": "2023-10-23T05:43:45.446909Z",
     "iopub.status.idle": "2023-10-23T05:43:45.456334Z",
     "shell.execute_reply": "2023-10-23T05:43:45.454462Z"
    },
    "papermill": {
     "duration": 0.01935,
     "end_time": "2023-10-23T05:43:45.459160",
     "exception": false,
     "start_time": "2023-10-23T05:43:45.439810",
     "status": "completed"
    },
    "tags": []
   },
   "outputs": [],
   "source": [
    "def minimum_sorted_array(lst):\n",
    "    \n",
    "    \n",
    "    l = 0\n",
    "    r = len(lst)-1\n",
    "    #IF lst[l] < lst[r] then list is already sorted then we know lst[l] will be minimum\n",
    "    \n",
    "    if lst[l] < lst[r]:\n",
    "        return lst[l]\n",
    "    \n",
    "    if len(lst) ==1:\n",
    "        return lst[0]\n",
    "    \n",
    "    #looping over l to r:\n",
    "    while l <= r:\n",
    "        #finding mid value \n",
    "        mid = (l+r)//2\n",
    "        \n",
    "        #if mid value is less than mid -1 value than mid is smallest as list is rotated. \n",
    "        if lst[mid] < lst[mid-1]:\n",
    "            return lst[mid]\n",
    "        #if mid value is larger than end value then we can move mid by 1 as minimum value lies in l.\n",
    "        if lst[mid] > lst[r]:\n",
    "            l = mid +1\n",
    "        #other wise it will be in left side. \n",
    "        else:    \n",
    "            r = mid -1 \n",
    "            \n",
    "    return None        \n",
    "    \n",
    "    "
   ]
  },
  {
   "cell_type": "code",
   "execution_count": null,
   "id": "d99c019d",
   "metadata": {
    "papermill": {
     "duration": 0.004765,
     "end_time": "2023-10-23T05:43:45.469668",
     "exception": false,
     "start_time": "2023-10-23T05:43:45.464903",
     "status": "completed"
    },
    "tags": []
   },
   "outputs": [],
   "source": []
  }
 ],
 "metadata": {
  "kernelspec": {
   "display_name": "Python 3",
   "language": "python",
   "name": "python3"
  },
  "language_info": {
   "codemirror_mode": {
    "name": "ipython",
    "version": 3
   },
   "file_extension": ".py",
   "mimetype": "text/x-python",
   "name": "python",
   "nbconvert_exporter": "python",
   "pygments_lexer": "ipython3",
   "version": "3.10.12"
  },
  "papermill": {
   "default_parameters": {},
   "duration": 6.43344,
   "end_time": "2023-10-23T05:43:46.100326",
   "environment_variables": {},
   "exception": null,
   "input_path": "__notebook__.ipynb",
   "output_path": "__notebook__.ipynb",
   "parameters": {},
   "start_time": "2023-10-23T05:43:39.666886",
   "version": "2.4.0"
  }
 },
 "nbformat": 4,
 "nbformat_minor": 5
}
