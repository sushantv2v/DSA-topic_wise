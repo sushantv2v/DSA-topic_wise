{
 "cells": [
  {
   "cell_type": "markdown",
   "id": "a6fd09c3",
   "metadata": {
    "_cell_guid": "b1076dfc-b9ad-4769-8c92-a6c4dae69d19",
    "_uuid": "8f2839f25d086af736a60e9eeb907d3b93b6e0e5",
    "papermill": {
     "duration": 0.002472,
     "end_time": "2023-10-16T09:30:00.993315",
     "exception": false,
     "start_time": "2023-10-16T09:30:00.990843",
     "status": "completed"
    },
    "tags": []
   },
   "source": [
    "In this notebook we will be solving the DSA question of array. I am selecting few questions from \n",
    "Array\n",
    "\n",
    "- Two Sum - https://leetcode.com/problems/two-sum/\n",
    "- Best Time to Buy and Sell Stock - https://leetcode.com/problems/best-time-to-buy-and-sell-stock/\n",
    "- Contains Duplicate - https://leetcode.com/problems/contains-duplicate/\n",
    "- Product of Array Except Self - https://leetcode.com/problems/product-of-array-except-self/\n",
    "- Maximum Subarray - https://leetcode.com/problems/maximum-subarray/\n",
    "- Maximum Product Subarray - https://leetcode.com/problems/maximum-product-subarray/\n",
    "- Find Minimum in Rotated Sorted Array - https://leetcode.com/problems/find-minimum-in-rotated-sorted-array/\n",
    "- Search in Rotated Sorted Array - https://leetcode.com/problems/search-in-rotated-sorted-array/\n",
    "- 3Sum - https://leetcode.com/problems/3sum/\n",
    "- Container With Most Water - https://leetcode.com/problems/container-with-most-water/"
   ]
  },
  {
   "cell_type": "markdown",
   "id": "484f1d1b",
   "metadata": {
    "papermill": {
     "duration": 0.001514,
     "end_time": "2023-10-16T09:30:00.996885",
     "exception": false,
     "start_time": "2023-10-16T09:30:00.995371",
     "status": "completed"
    },
    "tags": []
   },
   "source": [
    "# ***Two Sum***"
   ]
  },
  {
   "cell_type": "markdown",
   "id": "d0b1b8bb",
   "metadata": {
    "papermill": {
     "duration": 0.001957,
     "end_time": "2023-10-16T09:30:01.002723",
     "exception": false,
     "start_time": "2023-10-16T09:30:01.000766",
     "status": "completed"
    },
    "tags": []
   },
   "source": [
    "[2,7,11,15]Given an array of integers nums and an integer target, return indices of the two numbers such that they add up to target.\n",
    "\n",
    "You may assume that each input would have exactly one solution, and you may not use the same element twice.\n",
    "\n",
    "You can return the answer in any order.\n",
    "\n",
    " \n",
    "\n",
    "Example 1:\n",
    "\n",
    "Input: nums = [2,7,11,15], target = 9\n",
    "Output: [0,1]\n",
    "Explanation: Because nums[0] + nums[1] == 9, we return [0, 1].\n",
    "Example 2:\n",
    "\n",
    "Input: nums = [3,2,4], target = 6\n",
    "Output: [1,2]\n",
    "Example 3:\n",
    "\n",
    "Input: nums = [3,3], target = 6\n",
    "Output: [0,1]\n",
    " "
   ]
  },
  {
   "cell_type": "code",
   "execution_count": 1,
   "id": "e16ca788",
   "metadata": {
    "execution": {
     "iopub.execute_input": "2023-10-16T09:30:01.010009Z",
     "iopub.status.busy": "2023-10-16T09:30:01.009520Z",
     "iopub.status.idle": "2023-10-16T09:30:01.023150Z",
     "shell.execute_reply": "2023-10-16T09:30:01.022105Z"
    },
    "papermill": {
     "duration": 0.020301,
     "end_time": "2023-10-16T09:30:01.025582",
     "exception": false,
     "start_time": "2023-10-16T09:30:01.005281",
     "status": "completed"
    },
    "tags": []
   },
   "outputs": [
    {
     "name": "stdout",
     "output_type": "stream",
     "text": [
      "(0, 2)\n"
     ]
    }
   ],
   "source": [
    "def two_sum(input_array,output):\n",
    "    \n",
    "    #creating a dict to save the second numbers\n",
    "    dict_map = {}\n",
    "    \n",
    "    #looping over the list \n",
    "    for i in range(0,len(input_array)):\n",
    "        \n",
    "        #finding the second number \n",
    "        second_number=  output - input_array[i]\n",
    "        \n",
    "        #checking if it is present in dict or not \n",
    "        if second_number in dict_map:\n",
    "            return (dict_map[second_number],i)\n",
    "        \n",
    "        #adding the number to dict \n",
    "        dict_map[input_array[i]] = i\n",
    "    \n",
    "    return (-1,-1)\n",
    "        \n",
    "        \n",
    "print(two_sum([3,2,4],7))"
   ]
  },
  {
   "cell_type": "code",
   "execution_count": null,
   "id": "bac0351e",
   "metadata": {
    "papermill": {
     "duration": 0.001656,
     "end_time": "2023-10-16T09:30:01.029407",
     "exception": false,
     "start_time": "2023-10-16T09:30:01.027751",
     "status": "completed"
    },
    "tags": []
   },
   "outputs": [],
   "source": []
  }
 ],
 "metadata": {
  "kernelspec": {
   "display_name": "Python 3",
   "language": "python",
   "name": "python3"
  },
  "language_info": {
   "codemirror_mode": {
    "name": "ipython",
    "version": 3
   },
   "file_extension": ".py",
   "mimetype": "text/x-python",
   "name": "python",
   "nbconvert_exporter": "python",
   "pygments_lexer": "ipython3",
   "version": "3.10.12"
  },
  "papermill": {
   "default_parameters": {},
   "duration": 4.093559,
   "end_time": "2023-10-16T09:30:01.554304",
   "environment_variables": {},
   "exception": null,
   "input_path": "__notebook__.ipynb",
   "output_path": "__notebook__.ipynb",
   "parameters": {},
   "start_time": "2023-10-16T09:29:57.460745",
   "version": "2.4.0"
  }
 },
 "nbformat": 4,
 "nbformat_minor": 5
}
