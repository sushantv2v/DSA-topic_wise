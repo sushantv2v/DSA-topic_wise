{
 "cells": [
  {
   "cell_type": "markdown",
   "id": "7c0e5453",
   "metadata": {
    "_cell_guid": "b1076dfc-b9ad-4769-8c92-a6c4dae69d19",
    "_uuid": "8f2839f25d086af736a60e9eeb907d3b93b6e0e5",
    "papermill": {
     "duration": 0.005885,
     "end_time": "2023-10-18T08:25:27.026208",
     "exception": false,
     "start_time": "2023-10-18T08:25:27.020323",
     "status": "completed"
    },
    "tags": []
   },
   "source": [
    "In this notebook we will be solving the DSA question of array. I am selecting few questions from \n",
    "Array\n",
    "\n",
    "- Two Sum - https://leetcode.com/problems/two-sum/\n",
    "- Best Time to Buy and Sell Stock - https://leetcode.com/problems/best-time-to-buy-and-sell-stock/\n",
    "- Contains Duplicate - https://leetcode.com/problems/contains-duplicate/\n",
    "- Product of Array Except Self - https://leetcode.com/problems/product-of-array-except-self/\n",
    "- Maximum Subarray - https://leetcode.com/problems/maximum-subarray/\n",
    "- Maximum Product Subarray - https://leetcode.com/problems/maximum-product-subarray/\n",
    "- Find Minimum in Rotated Sorted Array - https://leetcode.com/problems/find-minimum-in-rotated-sorted-array/\n",
    "- Search in Rotated Sorted Array - https://leetcode.com/problems/search-in-rotated-sorted-array/\n",
    "- 3Sum - https://leetcode.com/problems/3sum/\n",
    "- Container With Most Water - https://leetcode.com/problems/container-with-most-water/"
   ]
  },
  {
   "cell_type": "markdown",
   "id": "1a885caf",
   "metadata": {
    "papermill": {
     "duration": 0.002744,
     "end_time": "2023-10-18T08:25:27.036631",
     "exception": false,
     "start_time": "2023-10-18T08:25:27.033887",
     "status": "completed"
    },
    "tags": []
   },
   "source": [
    "# ***Two Sum***"
   ]
  },
  {
   "cell_type": "markdown",
   "id": "a3cb2904",
   "metadata": {
    "papermill": {
     "duration": 0.002606,
     "end_time": "2023-10-18T08:25:27.042079",
     "exception": false,
     "start_time": "2023-10-18T08:25:27.039473",
     "status": "completed"
    },
    "tags": []
   },
   "source": [
    "[2,7,11,15]Given an array of integers nums and an integer target, return indices of the two numbers such that they add up to target.\n",
    "\n",
    "You may assume that each input would have exactly one solution, and you may not use the same element twice.\n",
    "\n",
    "You can return the answer in any order.\n",
    "\n",
    " \n",
    "\n",
    "Example 1:\n",
    "\n",
    "Input: nums = [2,7,11,15], target = 9\n",
    "Output: [0,1]\n",
    "Explanation: Because nums[0] + nums[1] == 9, we return [0, 1].\n",
    "Example 2:\n",
    "\n",
    "Input: nums = [3,2,4], target = 6\n",
    "Output: [1,2]\n",
    "Example 3:\n",
    "\n",
    "Input: nums = [3,3], target = 6\n",
    "Output: [0,1]\n",
    " "
   ]
  },
  {
   "cell_type": "code",
   "execution_count": 1,
   "id": "668e5df3",
   "metadata": {
    "execution": {
     "iopub.execute_input": "2023-10-18T08:25:27.049795Z",
     "iopub.status.busy": "2023-10-18T08:25:27.049121Z",
     "iopub.status.idle": "2023-10-18T08:25:27.059446Z",
     "shell.execute_reply": "2023-10-18T08:25:27.058782Z"
    },
    "papermill": {
     "duration": 0.016522,
     "end_time": "2023-10-18T08:25:27.061376",
     "exception": false,
     "start_time": "2023-10-18T08:25:27.044854",
     "status": "completed"
    },
    "tags": []
   },
   "outputs": [
    {
     "name": "stdout",
     "output_type": "stream",
     "text": [
      "(0, 2)\n"
     ]
    }
   ],
   "source": [
    "def two_sum(input_array,output):\n",
    "    \n",
    "    #creating a dict to save the second numbers\n",
    "    dict_map = {}\n",
    "    \n",
    "    #looping over the list \n",
    "    for i in range(0,len(input_array)):\n",
    "        \n",
    "        #finding the second number \n",
    "        second_number=  output - input_array[i]\n",
    "        \n",
    "        #checking if it is present in dict or not \n",
    "        if second_number in dict_map:\n",
    "            return (dict_map[second_number],i)\n",
    "        \n",
    "        #adding the number to dict \n",
    "        dict_map[input_array[i]] = i\n",
    "    \n",
    "    return (-1,-1)\n",
    "        \n",
    "        \n",
    "print(two_sum([3,2,4],7))"
   ]
  },
  {
   "cell_type": "markdown",
   "id": "184a5853",
   "metadata": {
    "papermill": {
     "duration": 0.002824,
     "end_time": "2023-10-18T08:25:27.067288",
     "exception": false,
     "start_time": "2023-10-18T08:25:27.064464",
     "status": "completed"
    },
    "tags": []
   },
   "source": [
    "# **Best Time to Buy and Sell Stock**\n",
    "\n",
    "You are given an array prices where prices[i] is the price of a given stock on the ith day.\n",
    "\n",
    "You want to maximize your profit by choosing a single day to buy one stock and choosing a different day in the future to sell that stock.\n",
    "\n",
    "Return the maximum profit you can achieve from this transaction. If you cannot achieve any profit, return 0.\n",
    "\n",
    " \n",
    "\n",
    "Example 1:\n",
    "\n",
    "Input: prices = [7,1,5,3,6,4]\n",
    "Output: 5\n",
    "Explanation: Buy on day 2 (price = 1) and sell on day 5 (price = 6), profit = 6-1 = 5.\n",
    "Note that buying on day 2 and selling on day 1 is not allowed because you must buy before you sell.\n",
    "Example 2:\n",
    "\n",
    "Input: prices = [7,6,4,3,1]\n",
    "Output: 0\n",
    "Explanation: In this case, no transactions are done and the max profit = 0.\n"
   ]
  },
  {
   "cell_type": "code",
   "execution_count": 2,
   "id": "1c296872",
   "metadata": {
    "execution": {
     "iopub.execute_input": "2023-10-18T08:25:27.075356Z",
     "iopub.status.busy": "2023-10-18T08:25:27.074713Z",
     "iopub.status.idle": "2023-10-18T08:25:27.082482Z",
     "shell.execute_reply": "2023-10-18T08:25:27.081736Z"
    },
    "papermill": {
     "duration": 0.01385,
     "end_time": "2023-10-18T08:25:27.084340",
     "exception": false,
     "start_time": "2023-10-18T08:25:27.070490",
     "status": "completed"
    },
    "tags": []
   },
   "outputs": [
    {
     "data": {
      "text/plain": [
       "6"
      ]
     },
     "execution_count": 2,
     "metadata": {},
     "output_type": "execute_result"
    }
   ],
   "source": [
    "def best_time_to_buy_sell(lst):\n",
    "    \n",
    "    buy, sell = lst[0],lst[0]\n",
    "    current_profit = sell - buy \n",
    "    \n",
    "    \n",
    "    for price in lst:\n",
    "        \n",
    "        if buy > price:\n",
    "            \n",
    "            buy = price\n",
    "            sell = price\n",
    "            \n",
    "        elif buy < price:\n",
    "            \n",
    "            sell = price\n",
    "            \n",
    "            if current_profit < sell-buy:\n",
    "                current_profit = sell - buy \n",
    "     \n",
    "    return current_profit \n",
    "            \n",
    "            \n",
    "    \n",
    "    \n",
    "    \n",
    "best_time_to_buy_sell([1,7,1,5,3,6,4])    \n",
    "    \n",
    "    \n",
    "    "
   ]
  },
  {
   "cell_type": "markdown",
   "id": "f878b7e3",
   "metadata": {
    "papermill": {
     "duration": 0.002989,
     "end_time": "2023-10-18T08:25:27.090704",
     "exception": false,
     "start_time": "2023-10-18T08:25:27.087715",
     "status": "completed"
    },
    "tags": []
   },
   "source": [
    "# **Contains Duplicate**\n",
    "\n",
    "Given an integer array nums, return true if any value appears at least twice in the array, and return false if every element is distinct.\n",
    "\n",
    " \n",
    "\n",
    "Example 1:\n",
    "\n",
    "Input: nums = [1,2,3,1]\n",
    "Output: true\n",
    "Example 2:\n",
    "\n",
    "Input: nums = [1,2,3,4]\n",
    "Output: false\n",
    "Example 3:\n",
    "\n",
    "Input: nums = [1,1,1,3,3,4,3,2,4,2]\n",
    "Output: true\n"
   ]
  },
  {
   "cell_type": "code",
   "execution_count": 3,
   "id": "f1c2cb8d",
   "metadata": {
    "execution": {
     "iopub.execute_input": "2023-10-18T08:25:27.098938Z",
     "iopub.status.busy": "2023-10-18T08:25:27.098267Z",
     "iopub.status.idle": "2023-10-18T08:25:27.104704Z",
     "shell.execute_reply": "2023-10-18T08:25:27.103718Z"
    },
    "papermill": {
     "duration": 0.012835,
     "end_time": "2023-10-18T08:25:27.106675",
     "exception": false,
     "start_time": "2023-10-18T08:25:27.093840",
     "status": "completed"
    },
    "tags": []
   },
   "outputs": [
    {
     "data": {
      "text/plain": [
       "True"
      ]
     },
     "execution_count": 3,
     "metadata": {},
     "output_type": "execute_result"
    }
   ],
   "source": [
    "def contain_duplicate(lst):\n",
    "    \n",
    "    nums_set = set()\n",
    "    \n",
    "    for i in lst:\n",
    "        \n",
    "        if i in nums_set:\n",
    "            return True\n",
    "        else:\n",
    "            nums_set.add(i)\n",
    "    return False        \n",
    "    \n",
    "    \n",
    "contain_duplicate([1,2,3,4,5,6,1])    "
   ]
  },
  {
   "cell_type": "markdown",
   "id": "e1cc9308",
   "metadata": {
    "papermill": {
     "duration": 0.003148,
     "end_time": "2023-10-18T08:25:27.113387",
     "exception": false,
     "start_time": "2023-10-18T08:25:27.110239",
     "status": "completed"
    },
    "tags": []
   },
   "source": [
    "# **Product of Array Except Self**\n",
    "\n",
    "Given an integer array nums, return an array answer such that answer[i] is equal to the product of all the elements of nums except nums[i].\n",
    "\n",
    "The product of any prefix or suffix of nums is guaranteed to fit in a 32-bit integer.\n",
    "\n",
    "You must write an algorithm that runs in O(n) time and without using the division operation.\n",
    "\n",
    " \n",
    "\n",
    "Example 1:\n",
    "\n",
    "Input: nums = [1,2,3,4]\n",
    "Output: [24,12,8,6]\n",
    "\n",
    "Example 2:\n",
    "\n",
    "Input: nums = [-1,1,0,-3,3]\n",
    "Output: [0,0,9,0,0]\n",
    " \n",
    "\n",
    "Constraints:\n",
    "\n",
    "2 <= nums.length <= 105\n",
    "-30 <= nums[i] <= 30\n",
    "The product of any prefix or suffix of nums is guaranteed to fit in a 32-bit integer.\n",
    " \n",
    "\n",
    "Follow up: Can you solve the problem in O(1) extra space complexity? (The output array does not count as extra space for space complexity analysis.)"
   ]
  },
  {
   "cell_type": "code",
   "execution_count": 4,
   "id": "d17d0073",
   "metadata": {
    "execution": {
     "iopub.execute_input": "2023-10-18T08:25:27.122283Z",
     "iopub.status.busy": "2023-10-18T08:25:27.121225Z",
     "iopub.status.idle": "2023-10-18T08:25:27.130844Z",
     "shell.execute_reply": "2023-10-18T08:25:27.130001Z"
    },
    "papermill": {
     "duration": 0.01612,
     "end_time": "2023-10-18T08:25:27.132785",
     "exception": false,
     "start_time": "2023-10-18T08:25:27.116665",
     "status": "completed"
    },
    "tags": []
   },
   "outputs": [
    {
     "data": {
      "text/plain": [
       "[24, 12, 8, 6]"
      ]
     },
     "execution_count": 4,
     "metadata": {},
     "output_type": "execute_result"
    }
   ],
   "source": [
    "#watch this video : https://www.youtube.com/watch?v=G9zKmhybKBM\n",
    "\n",
    "def array_except_self(lst):\n",
    "    #for edge case where list have only one element\n",
    "    \n",
    "    if len(lst)==1:\n",
    "        return [0]\n",
    "    \n",
    "    #creating 3 list \n",
    "    left_array = [0]*len(lst)\n",
    "    right_array = [0]*len(lst)\n",
    "    prod = [0]*len(lst)\n",
    "    \n",
    "    left_array[0] = 1\n",
    "    right_array[-1] = 1\n",
    "    \n",
    "    for i in range(1,len(lst)):\n",
    "        \n",
    "        left_array[i] = left_array[i-1]*lst[i-1]\n",
    "        \n",
    "    for i in range(len(lst)-2,-1,-1):\n",
    "        \n",
    "        right_array[i] = right_array[i+1]*lst[i+1]  \n",
    "    \n",
    "    for i in range(0,len(lst)):\n",
    "        \n",
    "        prod[i] =  left_array[i]*right_array[i]\n",
    "    \n",
    "    return prod  \n",
    "        \n",
    "        \n",
    "        \n",
    "array_except_self([1,2,3,4])        "
   ]
  },
  {
   "cell_type": "markdown",
   "id": "22f6b7fd",
   "metadata": {
    "papermill": {
     "duration": 0.003138,
     "end_time": "2023-10-18T08:25:27.139452",
     "exception": false,
     "start_time": "2023-10-18T08:25:27.136314",
     "status": "completed"
    },
    "tags": []
   },
   "source": [
    "# **Maximum Subarray**\n",
    "\n",
    "Given an integer array nums, find the \n",
    "subarray\n",
    " with the largest sum, and return its sum.\n",
    "\n",
    " \n",
    "\n",
    "Example 1:\n",
    "\n",
    "Input: nums = [-2,1,-3,4,-1,2,1,-5,4]\n",
    "Output: 6\n",
    "Explanation: The subarray [4,-1,2,1] has the largest sum 6.\n",
    "Example 2:\n",
    "\n",
    "Input: nums = [1]\n",
    "Output: 1\n",
    "Explanation: The subarray [1] has the largest sum 1.\n",
    "Example 3:\n",
    "\n",
    "Input: nums = [5,4,-1,7,8]\n",
    "Output: 23\n",
    "Explanation: The subarray [5,4,-1,7,8] has the largest sum 23."
   ]
  },
  {
   "cell_type": "code",
   "execution_count": 5,
   "id": "8794b734",
   "metadata": {
    "execution": {
     "iopub.execute_input": "2023-10-18T08:25:27.148280Z",
     "iopub.status.busy": "2023-10-18T08:25:27.147638Z",
     "iopub.status.idle": "2023-10-18T08:25:27.154516Z",
     "shell.execute_reply": "2023-10-18T08:25:27.153799Z"
    },
    "papermill": {
     "duration": 0.013469,
     "end_time": "2023-10-18T08:25:27.156273",
     "exception": false,
     "start_time": "2023-10-18T08:25:27.142804",
     "status": "completed"
    },
    "tags": []
   },
   "outputs": [
    {
     "data": {
      "text/plain": [
       "6"
      ]
     },
     "execution_count": 5,
     "metadata": {},
     "output_type": "execute_result"
    }
   ],
   "source": [
    "#watch this video : https://www.youtube.com/watch?v=HCL4_bOd3-4&t=637s\n",
    "\n",
    "#here we changed final max to large negartive to handle edgecase where all the element in list are negative\n",
    "\n",
    "#problem of DPP \n",
    "\n",
    "def kaddanse_algo_method(lst):\n",
    "    \n",
    "    \n",
    "    current_max = 0\n",
    "    final_max = -1000000\n",
    "    \n",
    "    for i in lst:\n",
    "        \n",
    "        current_max = current_max + i\n",
    "        \n",
    "        if current_max > final_max:\n",
    "            final_max = current_max\n",
    "        \n",
    "        if current_max <0:\n",
    "            current_max = 0\n",
    "            \n",
    "    return final_max        \n",
    "\n",
    "kaddanse_algo_method([-2,1,-3,4,-1,2,1,-5,4])"
   ]
  },
  {
   "cell_type": "code",
   "execution_count": 6,
   "id": "5e630bad",
   "metadata": {
    "execution": {
     "iopub.execute_input": "2023-10-18T08:25:27.167159Z",
     "iopub.status.busy": "2023-10-18T08:25:27.166441Z",
     "iopub.status.idle": "2023-10-18T08:25:27.173545Z",
     "shell.execute_reply": "2023-10-18T08:25:27.172336Z"
    },
    "papermill": {
     "duration": 0.016282,
     "end_time": "2023-10-18T08:25:27.176053",
     "exception": false,
     "start_time": "2023-10-18T08:25:27.159771",
     "status": "completed"
    },
    "tags": []
   },
   "outputs": [
    {
     "data": {
      "text/plain": [
       "[-1]"
      ]
     },
     "execution_count": 6,
     "metadata": {},
     "output_type": "execute_result"
    }
   ],
   "source": [
    "[-1]"
   ]
  }
 ],
 "metadata": {
  "kernelspec": {
   "display_name": "Python 3",
   "language": "python",
   "name": "python3"
  },
  "language_info": {
   "codemirror_mode": {
    "name": "ipython",
    "version": 3
   },
   "file_extension": ".py",
   "mimetype": "text/x-python",
   "name": "python",
   "nbconvert_exporter": "python",
   "pygments_lexer": "ipython3",
   "version": "3.10.12"
  },
  "papermill": {
   "default_parameters": {},
   "duration": 3.726427,
   "end_time": "2023-10-18T08:25:27.498875",
   "environment_variables": {},
   "exception": null,
   "input_path": "__notebook__.ipynb",
   "output_path": "__notebook__.ipynb",
   "parameters": {},
   "start_time": "2023-10-18T08:25:23.772448",
   "version": "2.4.0"
  }
 },
 "nbformat": 4,
 "nbformat_minor": 5
}
