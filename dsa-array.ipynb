{
 "cells": [
  {
   "cell_type": "markdown",
   "id": "35e4d432",
   "metadata": {
    "_cell_guid": "b1076dfc-b9ad-4769-8c92-a6c4dae69d19",
    "_uuid": "8f2839f25d086af736a60e9eeb907d3b93b6e0e5",
    "papermill": {
     "duration": 0.001993,
     "end_time": "2023-10-17T04:41:00.915211",
     "exception": false,
     "start_time": "2023-10-17T04:41:00.913218",
     "status": "completed"
    },
    "tags": []
   },
   "source": [
    "In this notebook we will be solving the DSA question of array. I am selecting few questions from \n",
    "Array\n",
    "\n",
    "- Two Sum - https://leetcode.com/problems/two-sum/\n",
    "- Best Time to Buy and Sell Stock - https://leetcode.com/problems/best-time-to-buy-and-sell-stock/\n",
    "- Contains Duplicate - https://leetcode.com/problems/contains-duplicate/\n",
    "- Product of Array Except Self - https://leetcode.com/problems/product-of-array-except-self/\n",
    "- Maximum Subarray - https://leetcode.com/problems/maximum-subarray/\n",
    "- Maximum Product Subarray - https://leetcode.com/problems/maximum-product-subarray/\n",
    "- Find Minimum in Rotated Sorted Array - https://leetcode.com/problems/find-minimum-in-rotated-sorted-array/\n",
    "- Search in Rotated Sorted Array - https://leetcode.com/problems/search-in-rotated-sorted-array/\n",
    "- 3Sum - https://leetcode.com/problems/3sum/\n",
    "- Container With Most Water - https://leetcode.com/problems/container-with-most-water/"
   ]
  },
  {
   "cell_type": "markdown",
   "id": "f2eb06d2",
   "metadata": {
    "papermill": {
     "duration": 0.001188,
     "end_time": "2023-10-17T04:41:00.917935",
     "exception": false,
     "start_time": "2023-10-17T04:41:00.916747",
     "status": "completed"
    },
    "tags": []
   },
   "source": [
    "# ***Two Sum***"
   ]
  },
  {
   "cell_type": "markdown",
   "id": "7be43a17",
   "metadata": {
    "papermill": {
     "duration": 0.001177,
     "end_time": "2023-10-17T04:41:00.922502",
     "exception": false,
     "start_time": "2023-10-17T04:41:00.921325",
     "status": "completed"
    },
    "tags": []
   },
   "source": [
    "[2,7,11,15]Given an array of integers nums and an integer target, return indices of the two numbers such that they add up to target.\n",
    "\n",
    "You may assume that each input would have exactly one solution, and you may not use the same element twice.\n",
    "\n",
    "You can return the answer in any order.\n",
    "\n",
    " \n",
    "\n",
    "Example 1:\n",
    "\n",
    "Input: nums = [2,7,11,15], target = 9\n",
    "Output: [0,1]\n",
    "Explanation: Because nums[0] + nums[1] == 9, we return [0, 1].\n",
    "Example 2:\n",
    "\n",
    "Input: nums = [3,2,4], target = 6\n",
    "Output: [1,2]\n",
    "Example 3:\n",
    "\n",
    "Input: nums = [3,3], target = 6\n",
    "Output: [0,1]\n",
    " "
   ]
  },
  {
   "cell_type": "code",
   "execution_count": 1,
   "id": "8e0d8d22",
   "metadata": {
    "execution": {
     "iopub.execute_input": "2023-10-17T04:41:00.927117Z",
     "iopub.status.busy": "2023-10-17T04:41:00.926541Z",
     "iopub.status.idle": "2023-10-17T04:41:00.935855Z",
     "shell.execute_reply": "2023-10-17T04:41:00.934515Z"
    },
    "papermill": {
     "duration": 0.013699,
     "end_time": "2023-10-17T04:41:00.937523",
     "exception": false,
     "start_time": "2023-10-17T04:41:00.923824",
     "status": "completed"
    },
    "tags": []
   },
   "outputs": [
    {
     "name": "stdout",
     "output_type": "stream",
     "text": [
      "(0, 2)\n"
     ]
    }
   ],
   "source": [
    "def two_sum(input_array,output):\n",
    "    \n",
    "    #creating a dict to save the second numbers\n",
    "    dict_map = {}\n",
    "    \n",
    "    #looping over the list \n",
    "    for i in range(0,len(input_array)):\n",
    "        \n",
    "        #finding the second number \n",
    "        second_number=  output - input_array[i]\n",
    "        \n",
    "        #checking if it is present in dict or not \n",
    "        if second_number in dict_map:\n",
    "            return (dict_map[second_number],i)\n",
    "        \n",
    "        #adding the number to dict \n",
    "        dict_map[input_array[i]] = i\n",
    "    \n",
    "    return (-1,-1)\n",
    "        \n",
    "        \n",
    "print(two_sum([3,2,4],7))"
   ]
  },
  {
   "cell_type": "markdown",
   "id": "8ab87b96",
   "metadata": {
    "papermill": {
     "duration": 0.001333,
     "end_time": "2023-10-17T04:41:00.940561",
     "exception": false,
     "start_time": "2023-10-17T04:41:00.939228",
     "status": "completed"
    },
    "tags": []
   },
   "source": [
    "# **Best Time to Buy and Sell Stock**\n",
    "\n",
    "You are given an array prices where prices[i] is the price of a given stock on the ith day.\n",
    "\n",
    "You want to maximize your profit by choosing a single day to buy one stock and choosing a different day in the future to sell that stock.\n",
    "\n",
    "Return the maximum profit you can achieve from this transaction. If you cannot achieve any profit, return 0.\n",
    "\n",
    " \n",
    "\n",
    "Example 1:\n",
    "\n",
    "Input: prices = [7,1,5,3,6,4]\n",
    "Output: 5\n",
    "Explanation: Buy on day 2 (price = 1) and sell on day 5 (price = 6), profit = 6-1 = 5.\n",
    "Note that buying on day 2 and selling on day 1 is not allowed because you must buy before you sell.\n",
    "Example 2:\n",
    "\n",
    "Input: prices = [7,6,4,3,1]\n",
    "Output: 0\n",
    "Explanation: In this case, no transactions are done and the max profit = 0.\n"
   ]
  },
  {
   "cell_type": "code",
   "execution_count": 2,
   "id": "9425a4ff",
   "metadata": {
    "execution": {
     "iopub.execute_input": "2023-10-17T04:41:00.945910Z",
     "iopub.status.busy": "2023-10-17T04:41:00.944743Z",
     "iopub.status.idle": "2023-10-17T04:41:00.953383Z",
     "shell.execute_reply": "2023-10-17T04:41:00.952688Z"
    },
    "papermill": {
     "duration": 0.012829,
     "end_time": "2023-10-17T04:41:00.954821",
     "exception": false,
     "start_time": "2023-10-17T04:41:00.941992",
     "status": "completed"
    },
    "tags": []
   },
   "outputs": [
    {
     "data": {
      "text/plain": [
       "6"
      ]
     },
     "execution_count": 2,
     "metadata": {},
     "output_type": "execute_result"
    }
   ],
   "source": [
    "def best_time_to_buy_sell(lst):\n",
    "    \n",
    "    buy, sell = lst[0],lst[0]\n",
    "    current_profit = sell - buy \n",
    "    \n",
    "    \n",
    "    for price in lst:\n",
    "        \n",
    "        if buy > price:\n",
    "            \n",
    "            buy = price\n",
    "            sell = price\n",
    "            \n",
    "        elif buy < price:\n",
    "            \n",
    "            sell = price\n",
    "            \n",
    "            if current_profit < sell-buy:\n",
    "                current_profit = sell - buy \n",
    "     \n",
    "    return current_profit \n",
    "            \n",
    "            \n",
    "    \n",
    "    \n",
    "    \n",
    "best_time_to_buy_sell([1,7,1,5,3,6,4])    \n",
    "    \n",
    "    \n",
    "    "
   ]
  },
  {
   "cell_type": "code",
   "execution_count": null,
   "id": "91fd735c",
   "metadata": {
    "papermill": {
     "duration": 0.00147,
     "end_time": "2023-10-17T04:41:00.958141",
     "exception": false,
     "start_time": "2023-10-17T04:41:00.956671",
     "status": "completed"
    },
    "tags": []
   },
   "outputs": [],
   "source": []
  }
 ],
 "metadata": {
  "kernelspec": {
   "display_name": "Python 3",
   "language": "python",
   "name": "python3"
  },
  "language_info": {
   "codemirror_mode": {
    "name": "ipython",
    "version": 3
   },
   "file_extension": ".py",
   "mimetype": "text/x-python",
   "name": "python",
   "nbconvert_exporter": "python",
   "pygments_lexer": "ipython3",
   "version": "3.10.12"
  },
  "papermill": {
   "default_parameters": {},
   "duration": 2.879263,
   "end_time": "2023-10-17T04:41:01.277574",
   "environment_variables": {},
   "exception": null,
   "input_path": "__notebook__.ipynb",
   "output_path": "__notebook__.ipynb",
   "parameters": {},
   "start_time": "2023-10-17T04:40:58.398311",
   "version": "2.4.0"
  }
 },
 "nbformat": 4,
 "nbformat_minor": 5
}
