{
 "cells": [
  {
   "cell_type": "markdown",
   "id": "3fc54781",
   "metadata": {
    "_cell_guid": "b1076dfc-b9ad-4769-8c92-a6c4dae69d19",
    "_uuid": "8f2839f25d086af736a60e9eeb907d3b93b6e0e5",
    "papermill": {
     "duration": 0.006342,
     "end_time": "2023-10-25T13:43:46.373185",
     "exception": false,
     "start_time": "2023-10-25T13:43:46.366843",
     "status": "completed"
    },
    "tags": []
   },
   "source": [
    "In this notebook we will be solving the DSA question of array. I am selecting few questions from \n",
    "Array\n",
    "\n",
    "- Two Sum - https://leetcode.com/problems/two-sum/\n",
    "- Best Time to Buy and Sell Stock - https://leetcode.com/problems/best-time-to-buy-and-sell-stock/\n",
    "- Contains Duplicate - https://leetcode.com/problems/contains-duplicate/\n",
    "- Product of Array Except Self - https://leetcode.com/problems/product-of-array-except-self/\n",
    "- Maximum Subarray - https://leetcode.com/problems/maximum-subarray/\n",
    "- Maximum Product Subarray - https://leetcode.com/problems/maximum-product-subarray/\n",
    "- Find Minimum in Rotated Sorted Array - https://leetcode.com/problems/find-minimum-in-rotated-sorted-array/\n",
    "- Search in Rotated Sorted Array - https://leetcode.com/problems/search-in-rotated-sorted-array/\n",
    "- 3Sum - https://leetcode.com/problems/3sum/\n",
    "- Container With Most Water - https://leetcode.com/problems/container-with-most-water/"
   ]
  },
  {
   "cell_type": "markdown",
   "id": "def92cef",
   "metadata": {
    "papermill": {
     "duration": 0.005777,
     "end_time": "2023-10-25T13:43:46.385490",
     "exception": false,
     "start_time": "2023-10-25T13:43:46.379713",
     "status": "completed"
    },
    "tags": []
   },
   "source": [
    "# ***Two Sum***"
   ]
  },
  {
   "cell_type": "markdown",
   "id": "880833f6",
   "metadata": {
    "papermill": {
     "duration": 0.007699,
     "end_time": "2023-10-25T13:43:46.402240",
     "exception": false,
     "start_time": "2023-10-25T13:43:46.394541",
     "status": "completed"
    },
    "tags": []
   },
   "source": [
    "[2,7,11,15]Given an array of integers nums and an integer target, return indices of the two numbers such that they add up to target.\n",
    "\n",
    "You may assume that each input would have exactly one solution, and you may not use the same element twice.\n",
    "\n",
    "You can return the answer in any order.\n",
    "\n",
    " \n",
    "\n",
    "Example 1:\n",
    "\n",
    "Input: nums = [2,7,11,15], target = 9\n",
    "Output: [0,1]\n",
    "Explanation: Because nums[0] + nums[1] == 9, we return [0, 1].\n",
    "Example 2:\n",
    "\n",
    "Input: nums = [3,2,4], target = 6\n",
    "Output: [1,2]\n",
    "Example 3:\n",
    "\n",
    "Input: nums = [3,3], target = 6\n",
    "Output: [0,1]\n",
    " "
   ]
  },
  {
   "cell_type": "code",
   "execution_count": 1,
   "id": "8b409622",
   "metadata": {
    "execution": {
     "iopub.execute_input": "2023-10-25T13:43:46.416600Z",
     "iopub.status.busy": "2023-10-25T13:43:46.415830Z",
     "iopub.status.idle": "2023-10-25T13:43:46.440234Z",
     "shell.execute_reply": "2023-10-25T13:43:46.439409Z"
    },
    "papermill": {
     "duration": 0.034689,
     "end_time": "2023-10-25T13:43:46.442764",
     "exception": false,
     "start_time": "2023-10-25T13:43:46.408075",
     "status": "completed"
    },
    "tags": []
   },
   "outputs": [
    {
     "name": "stdout",
     "output_type": "stream",
     "text": [
      "(0, 2)\n"
     ]
    }
   ],
   "source": [
    "def two_sum(input_array,output):\n",
    "    \n",
    "    #creating a dict to save the second numbers\n",
    "    dict_map = {}\n",
    "    \n",
    "    #looping over the list \n",
    "    for i in range(0,len(input_array)):\n",
    "        \n",
    "        #finding the second number \n",
    "        second_number=  output - input_array[i]\n",
    "        \n",
    "        #checking if it is present in dict or not \n",
    "        if second_number in dict_map:\n",
    "            return (dict_map[second_number],i)\n",
    "        \n",
    "        #adding the number to dict \n",
    "        dict_map[input_array[i]] = i\n",
    "    \n",
    "    return (-1,-1)\n",
    "        \n",
    "        \n",
    "print(two_sum([3,2,4],7))"
   ]
  },
  {
   "cell_type": "markdown",
   "id": "cbc9b1bf",
   "metadata": {
    "papermill": {
     "duration": 0.008343,
     "end_time": "2023-10-25T13:43:46.460188",
     "exception": false,
     "start_time": "2023-10-25T13:43:46.451845",
     "status": "completed"
    },
    "tags": []
   },
   "source": [
    "# **Best Time to Buy and Sell Stock**\n",
    "\n",
    "You are given an array prices where prices[i] is the price of a given stock on the ith day.\n",
    "\n",
    "You want to maximize your profit by choosing a single day to buy one stock and choosing a different day in the future to sell that stock.\n",
    "\n",
    "Return the maximum profit you can achieve from this transaction. If you cannot achieve any profit, return 0.\n",
    "\n",
    " \n",
    "\n",
    "Example 1:\n",
    "\n",
    "Input: prices = [7,1,5,3,6,4]\n",
    "Output: 5\n",
    "Explanation: Buy on day 2 (price = 1) and sell on day 5 (price = 6), profit = 6-1 = 5.\n",
    "Note that buying on day 2 and selling on day 1 is not allowed because you must buy before you sell.\n",
    "Example 2:\n",
    "\n",
    "Input: prices = [7,6,4,3,1]\n",
    "Output: 0\n",
    "Explanation: In this case, no transactions are done and the max profit = 0.\n"
   ]
  },
  {
   "cell_type": "code",
   "execution_count": 2,
   "id": "fdb657ed",
   "metadata": {
    "execution": {
     "iopub.execute_input": "2023-10-25T13:43:46.478984Z",
     "iopub.status.busy": "2023-10-25T13:43:46.478415Z",
     "iopub.status.idle": "2023-10-25T13:43:46.489304Z",
     "shell.execute_reply": "2023-10-25T13:43:46.488295Z"
    },
    "papermill": {
     "duration": 0.022563,
     "end_time": "2023-10-25T13:43:46.491380",
     "exception": false,
     "start_time": "2023-10-25T13:43:46.468817",
     "status": "completed"
    },
    "tags": []
   },
   "outputs": [
    {
     "data": {
      "text/plain": [
       "6"
      ]
     },
     "execution_count": 2,
     "metadata": {},
     "output_type": "execute_result"
    }
   ],
   "source": [
    "def best_time_to_buy_sell(lst):\n",
    "    \n",
    "    buy, sell = lst[0],lst[0]\n",
    "    current_profit = sell - buy \n",
    "    \n",
    "    \n",
    "    for price in lst:\n",
    "        \n",
    "        if buy > price:\n",
    "            \n",
    "            buy = price\n",
    "            sell = price\n",
    "            \n",
    "        elif buy < price:\n",
    "            \n",
    "            sell = price\n",
    "            \n",
    "            if current_profit < sell-buy:\n",
    "                current_profit = sell - buy \n",
    "     \n",
    "    return current_profit \n",
    "            \n",
    "            \n",
    "    \n",
    "    \n",
    "    \n",
    "best_time_to_buy_sell([1,7,1,5,3,6,4])    \n",
    "    \n",
    "    \n",
    "    "
   ]
  },
  {
   "cell_type": "markdown",
   "id": "67fbd345",
   "metadata": {
    "papermill": {
     "duration": 0.005794,
     "end_time": "2023-10-25T13:43:46.503457",
     "exception": false,
     "start_time": "2023-10-25T13:43:46.497663",
     "status": "completed"
    },
    "tags": []
   },
   "source": [
    "# **Contains Duplicate**\n",
    "\n",
    "Given an integer array nums, return true if any value appears at least twice in the array, and return false if every element is distinct.\n",
    "\n",
    " \n",
    "\n",
    "Example 1:\n",
    "\n",
    "Input: nums = [1,2,3,1]\n",
    "Output: true\n",
    "Example 2:\n",
    "\n",
    "Input: nums = [1,2,3,4]\n",
    "Output: false\n",
    "Example 3:\n",
    "\n",
    "Input: nums = [1,1,1,3,3,4,3,2,4,2]\n",
    "Output: true\n"
   ]
  },
  {
   "cell_type": "code",
   "execution_count": 3,
   "id": "8b232e47",
   "metadata": {
    "execution": {
     "iopub.execute_input": "2023-10-25T13:43:46.517497Z",
     "iopub.status.busy": "2023-10-25T13:43:46.517025Z",
     "iopub.status.idle": "2023-10-25T13:43:46.524921Z",
     "shell.execute_reply": "2023-10-25T13:43:46.524172Z"
    },
    "papermill": {
     "duration": 0.018629,
     "end_time": "2023-10-25T13:43:46.528057",
     "exception": false,
     "start_time": "2023-10-25T13:43:46.509428",
     "status": "completed"
    },
    "tags": []
   },
   "outputs": [
    {
     "data": {
      "text/plain": [
       "True"
      ]
     },
     "execution_count": 3,
     "metadata": {},
     "output_type": "execute_result"
    }
   ],
   "source": [
    "def contain_duplicate(lst):\n",
    "    \n",
    "    nums_set = set()\n",
    "    \n",
    "    for i in lst:\n",
    "        \n",
    "        if i in nums_set:\n",
    "            return True\n",
    "        else:\n",
    "            nums_set.add(i)\n",
    "    return False        \n",
    "    \n",
    "    \n",
    "contain_duplicate([1,2,3,4,5,6,1])    "
   ]
  },
  {
   "cell_type": "markdown",
   "id": "84067fce",
   "metadata": {
    "papermill": {
     "duration": 0.009136,
     "end_time": "2023-10-25T13:43:46.546375",
     "exception": false,
     "start_time": "2023-10-25T13:43:46.537239",
     "status": "completed"
    },
    "tags": []
   },
   "source": [
    "# **Product of Array Except Self**\n",
    "\n",
    "Given an integer array nums, return an array answer such that answer[i] is equal to the product of all the elements of nums except nums[i].\n",
    "\n",
    "The product of any prefix or suffix of nums is guaranteed to fit in a 32-bit integer.\n",
    "\n",
    "You must write an algorithm that runs in O(n) time and without using the division operation.\n",
    "\n",
    " \n",
    "\n",
    "Example 1:\n",
    "\n",
    "Input: nums = [1,2,3,4]\n",
    "Output: [24,12,8,6]\n",
    "\n",
    "Example 2:\n",
    "\n",
    "Input: nums = [-1,1,0,-3,3]\n",
    "Output: [0,0,9,0,0]\n",
    " \n",
    "\n",
    "Constraints:\n",
    "\n",
    "2 <= nums.length <= 105\n",
    "-30 <= nums[i] <= 30\n",
    "The product of any prefix or suffix of nums is guaranteed to fit in a 32-bit integer.\n",
    " \n",
    "\n",
    "Follow up: Can you solve the problem in O(1) extra space complexity? (The output array does not count as extra space for space complexity analysis.)"
   ]
  },
  {
   "cell_type": "code",
   "execution_count": 4,
   "id": "4c364016",
   "metadata": {
    "execution": {
     "iopub.execute_input": "2023-10-25T13:43:46.567249Z",
     "iopub.status.busy": "2023-10-25T13:43:46.566303Z",
     "iopub.status.idle": "2023-10-25T13:43:46.584867Z",
     "shell.execute_reply": "2023-10-25T13:43:46.583916Z"
    },
    "papermill": {
     "duration": 0.031306,
     "end_time": "2023-10-25T13:43:46.587141",
     "exception": false,
     "start_time": "2023-10-25T13:43:46.555835",
     "status": "completed"
    },
    "tags": []
   },
   "outputs": [
    {
     "data": {
      "text/plain": [
       "[24, 12, 8, 6]"
      ]
     },
     "execution_count": 4,
     "metadata": {},
     "output_type": "execute_result"
    }
   ],
   "source": [
    "#watch this video : https://www.youtube.com/watch?v=G9zKmhybKBM\n",
    "\n",
    "def array_except_self(lst):\n",
    "    #for edge case where list have only one element\n",
    "    \n",
    "    if len(lst)==1:\n",
    "        return [0]\n",
    "    \n",
    "    #creating 3 list \n",
    "    left_array = [0]*len(lst)\n",
    "    right_array = [0]*len(lst)\n",
    "    prod = [0]*len(lst)\n",
    "    \n",
    "    left_array[0] = 1\n",
    "    right_array[-1] = 1\n",
    "    \n",
    "    for i in range(1,len(lst)):\n",
    "        \n",
    "        left_array[i] = left_array[i-1]*lst[i-1]\n",
    "        \n",
    "    for i in range(len(lst)-2,-1,-1):\n",
    "        \n",
    "        right_array[i] = right_array[i+1]*lst[i+1]  \n",
    "    \n",
    "    for i in range(0,len(lst)):\n",
    "        \n",
    "        prod[i] =  left_array[i]*right_array[i]\n",
    "    \n",
    "    return prod  \n",
    "        \n",
    "        \n",
    "        \n",
    "array_except_self([1,2,3,4])        "
   ]
  },
  {
   "cell_type": "markdown",
   "id": "48fe5350",
   "metadata": {
    "papermill": {
     "duration": 0.007243,
     "end_time": "2023-10-25T13:43:46.600707",
     "exception": false,
     "start_time": "2023-10-25T13:43:46.593464",
     "status": "completed"
    },
    "tags": []
   },
   "source": [
    "# **Maximum Subarray**\n",
    "\n",
    "Given an integer array nums, find the \n",
    "subarray\n",
    " with the largest sum, and return its sum.\n",
    "\n",
    " \n",
    "\n",
    "Example 1:\n",
    "\n",
    "Input: nums = [-2,1,-3,4,-1,2,1,-5,4]\n",
    "Output: 6\n",
    "Explanation: The subarray [4,-1,2,1] has the largest sum 6.\n",
    "Example 2:\n",
    "\n",
    "Input: nums = [1]\n",
    "Output: 1\n",
    "Explanation: The subarray [1] has the largest sum 1.\n",
    "Example 3:\n",
    "\n",
    "Input: nums = [5,4,-1,7,8]\n",
    "Output: 23\n",
    "Explanation: The subarray [5,4,-1,7,8] has the largest sum 23."
   ]
  },
  {
   "cell_type": "code",
   "execution_count": 5,
   "id": "4fd516ee",
   "metadata": {
    "execution": {
     "iopub.execute_input": "2023-10-25T13:43:46.619034Z",
     "iopub.status.busy": "2023-10-25T13:43:46.618697Z",
     "iopub.status.idle": "2023-10-25T13:43:46.626818Z",
     "shell.execute_reply": "2023-10-25T13:43:46.625759Z"
    },
    "papermill": {
     "duration": 0.018202,
     "end_time": "2023-10-25T13:43:46.629279",
     "exception": false,
     "start_time": "2023-10-25T13:43:46.611077",
     "status": "completed"
    },
    "tags": []
   },
   "outputs": [
    {
     "data": {
      "text/plain": [
       "6"
      ]
     },
     "execution_count": 5,
     "metadata": {},
     "output_type": "execute_result"
    }
   ],
   "source": [
    "#watch this video : https://www.youtube.com/watch?v=HCL4_bOd3-4&t=637s\n",
    "\n",
    "#here we changed final max to large negartive to handle edgecase where all the element in list are negative\n",
    "\n",
    "#problem of DPP \n",
    "\n",
    "def kaddanse_algo_method(lst):\n",
    "    \n",
    "    \n",
    "    current_max = 0\n",
    "    final_max = -1000000\n",
    "    \n",
    "    for i in lst:\n",
    "        \n",
    "        current_max = current_max + i\n",
    "        \n",
    "        if current_max > final_max:\n",
    "            final_max = current_max\n",
    "        \n",
    "        if current_max <0:\n",
    "            current_max = 0\n",
    "            \n",
    "    return final_max        \n",
    "\n",
    "kaddanse_algo_method([-2,1,-3,4,-1,2,1,-5,4])"
   ]
  },
  {
   "cell_type": "markdown",
   "id": "62ee3a1b",
   "metadata": {
    "papermill": {
     "duration": 0.0065,
     "end_time": "2023-10-25T13:43:46.642533",
     "exception": false,
     "start_time": "2023-10-25T13:43:46.636033",
     "status": "completed"
    },
    "tags": []
   },
   "source": [
    "#  **Maximum Product Subarray**\n",
    "\n",
    "Given an integer array nums, find a \n",
    "subarray\n",
    " that has the largest product, and return the product.\n",
    "\n",
    "The test cases are generated so that the answer will fit in a 32-bit integer.\n",
    "\n",
    " \n",
    "\n",
    "Example 1:\n",
    "\n",
    "Input: nums = [2,3,-2,4]\n",
    "Output: 6\n",
    "Explanation: [2,3] has the largest product 6.\n",
    "\n",
    "Example 2:\n",
    "\n",
    "Input: nums = [-2,0,-1]\n",
    "Output: 0\n",
    "Explanation: The result cannot be 2, because [-2,-1] is not a subarray.\n",
    " \n",
    "\n",
    "Constraints:\n",
    "\n",
    "1 <= nums.length <= 2 * 104\n",
    "-10 <= nums[i] <= 10\n",
    "The product of any prefix or suffix of nums is guaranteed to fit in a 32-bit integer."
   ]
  },
  {
   "cell_type": "code",
   "execution_count": 6,
   "id": "1beeb30e",
   "metadata": {
    "execution": {
     "iopub.execute_input": "2023-10-25T13:43:46.656868Z",
     "iopub.status.busy": "2023-10-25T13:43:46.656520Z",
     "iopub.status.idle": "2023-10-25T13:43:46.666307Z",
     "shell.execute_reply": "2023-10-25T13:43:46.665087Z"
    },
    "papermill": {
     "duration": 0.019516,
     "end_time": "2023-10-25T13:43:46.668404",
     "exception": false,
     "start_time": "2023-10-25T13:43:46.648888",
     "status": "completed"
    },
    "tags": []
   },
   "outputs": [
    {
     "data": {
      "text/plain": [
       "49896"
      ]
     },
     "execution_count": 6,
     "metadata": {},
     "output_type": "execute_result"
    }
   ],
   "source": [
    "def max_product_subarray(lst):\n",
    "    \n",
    "    max_prod = 1\n",
    "    min_prod = 1 \n",
    "    ans = lst[0]\n",
    "    \n",
    "    if len(lst)==1:\n",
    "        return lst[0]\n",
    "    \n",
    "    \n",
    "    for i in range(0,len(lst)):\n",
    "        \n",
    "        \n",
    "        if lst[i] <0:\n",
    "            # because after multyping it by negative once it will interchange \n",
    "            max_prod , min_prod = min_prod, max_prod \n",
    "        #finding max product as positive prod         \n",
    "        max_prod = max(lst[i], max_prod*lst[i])\n",
    "        #also saving min prod so if negative will come i will switch back on it \n",
    "        min_prod = min(lst[i], min_prod*lst[i])\n",
    "            \n",
    "            \n",
    "            \n",
    "        ans = max(ans,max_prod )\n",
    "    return ans         \n",
    "    \n",
    "    \n",
    "    \n",
    "max_product_subarray([1,2,-5,-44,54,-21])    \n",
    "    \n",
    "    \n",
    "    "
   ]
  },
  {
   "cell_type": "code",
   "execution_count": 7,
   "id": "e2547e9a",
   "metadata": {
    "execution": {
     "iopub.execute_input": "2023-10-25T13:43:46.683279Z",
     "iopub.status.busy": "2023-10-25T13:43:46.682899Z",
     "iopub.status.idle": "2023-10-25T13:43:46.689085Z",
     "shell.execute_reply": "2023-10-25T13:43:46.688142Z"
    },
    "papermill": {
     "duration": 0.01621,
     "end_time": "2023-10-25T13:43:46.691103",
     "exception": false,
     "start_time": "2023-10-25T13:43:46.674893",
     "status": "completed"
    },
    "tags": []
   },
   "outputs": [],
   "source": [
    "def binary_search(arr, x):\n",
    "    \"\"\"\n",
    "    Perform binary search to find x in arr\n",
    "    \n",
    "    :param arr: A sorted list of items.\n",
    "    :param x: The item to search for.\n",
    "    :return: The index of x if x exists in arr, otherwise -1.\n",
    "    \"\"\"\n",
    "    l = 0\n",
    "    r = len(arr) - 1\n",
    "\n",
    "    while l <= r:\n",
    "        mid = (l + r) // 2\n",
    "        \n",
    "        # If the element is present at the middle itself\n",
    "        if arr[mid] == x:\n",
    "            return mid\n",
    "        \n",
    "        # If element is smaller than mid, then it can only be present in the left subarray\n",
    "        elif arr[mid] < x:\n",
    "            l = mid + 1\n",
    "        \n",
    "        # Else the element can only be present in the right subarray\n",
    "        else:\n",
    "            r = mid - 1\n",
    "\n",
    "    # If we reach here, then the element was not present in the array\n",
    "    return -1\n"
   ]
  },
  {
   "cell_type": "code",
   "execution_count": 8,
   "id": "7f7d366c",
   "metadata": {
    "execution": {
     "iopub.execute_input": "2023-10-25T13:43:46.707946Z",
     "iopub.status.busy": "2023-10-25T13:43:46.707623Z",
     "iopub.status.idle": "2023-10-25T13:43:46.712874Z",
     "shell.execute_reply": "2023-10-25T13:43:46.712144Z"
    },
    "papermill": {
     "duration": 0.01645,
     "end_time": "2023-10-25T13:43:46.716234",
     "exception": false,
     "start_time": "2023-10-25T13:43:46.699784",
     "status": "completed"
    },
    "tags": []
   },
   "outputs": [
    {
     "name": "stdout",
     "output_type": "stream",
     "text": [
      "Element 7 is present at index 6\n"
     ]
    }
   ],
   "source": [
    "arr = [1, 2, 3, 4, 5, 6, 7, 8, 9, 10]\n",
    "x = 7\n",
    "\n",
    "# Call the function\n",
    "index = binary_search(arr, x)\n",
    "\n",
    "if index != -1:\n",
    "    print(f\"Element {x} is present at index {index}\")\n",
    "else:\n",
    "    print(f\"Element {x} is not present in the array\")\n"
   ]
  },
  {
   "cell_type": "markdown",
   "id": "464c0771",
   "metadata": {
    "papermill": {
     "duration": 0.009306,
     "end_time": "2023-10-25T13:43:46.735160",
     "exception": false,
     "start_time": "2023-10-25T13:43:46.725854",
     "status": "completed"
    },
    "tags": []
   },
   "source": [
    "# **Find Minimum in Rotated Sorted Array**\n",
    "\n",
    "Hint : Suppose an array of length n sorted in ascending order is rotated between 1 and n times. For example, the array nums = [0,1,2,4,5,6,7] might become:\n",
    "\n",
    "[4,5,6,7,0,1,2] if it was rotated 4 times.\n",
    "[0,1,2,4,5,6,7] if it was rotated 7 times.\n",
    "Notice that rotating an array [a[0], a[1], a[2], ..., a[n-1]] 1 time results in the array [a[n-1], a[0], a[1], a[2], ..., a[n-2]].\n",
    "\n",
    "Given the sorted rotated array nums of unique elements, return the minimum element of this array.\n",
    "\n",
    "You must write an algorithm that runs in O(log n) time.\n",
    "\n",
    "Example 1:\n",
    "\n",
    "Input: nums = [3,4,5,1,2]\n",
    "Output: 1\n",
    "Explanation: The original array was [1,2,3,4,5] rotated 3 times.\n",
    "Example 2:\n",
    "\n",
    "Input: nums = [4,5,6,7,0,1,2]\n",
    "Output: 0\n",
    "Explanation: The original array was [0,1,2,4,5,6,7] and it was rotated 4 times.\n",
    "Example 3:\n",
    "\n",
    "Input: nums = [11,13,15,17]\n",
    "Output: 11\n",
    "Explanation: The original array was [11,13,15,17] and it was rotated 4 times."
   ]
  },
  {
   "cell_type": "code",
   "execution_count": 9,
   "id": "abe164c9",
   "metadata": {
    "execution": {
     "iopub.execute_input": "2023-10-25T13:43:46.754470Z",
     "iopub.status.busy": "2023-10-25T13:43:46.753576Z",
     "iopub.status.idle": "2023-10-25T13:43:46.762042Z",
     "shell.execute_reply": "2023-10-25T13:43:46.761036Z"
    },
    "papermill": {
     "duration": 0.021906,
     "end_time": "2023-10-25T13:43:46.764430",
     "exception": false,
     "start_time": "2023-10-25T13:43:46.742524",
     "status": "completed"
    },
    "tags": []
   },
   "outputs": [],
   "source": [
    "def minimum_sorted_array(lst):\n",
    "    \n",
    "    \n",
    "    l = 0\n",
    "    r = len(lst)-1\n",
    "    #IF lst[l] < lst[r] then list is already sorted then we know lst[l] will be minimum\n",
    "    \n",
    "    if lst[l] < lst[r]:\n",
    "        return lst[l]\n",
    "    \n",
    "    if len(lst) ==1:\n",
    "        return lst[0]\n",
    "    \n",
    "    #looping over l to r:\n",
    "    while l <= r:\n",
    "        #finding mid value \n",
    "        mid = (l+r)//2\n",
    "        \n",
    "        #if mid value is less than mid -1 value than mid is smallest as list is rotated. \n",
    "        if lst[mid] < lst[mid-1]:\n",
    "            return lst[mid]\n",
    "        #if mid value is larger than end value then we can move mid by 1 as minimum value lies in l.\n",
    "        if lst[mid] > lst[r]:\n",
    "            l = mid +1\n",
    "        #other wise it will be in left side. \n",
    "        else:    \n",
    "            r = mid -1 \n",
    "            \n",
    "    return None        \n",
    "    \n",
    "    "
   ]
  },
  {
   "cell_type": "markdown",
   "id": "deaa8516",
   "metadata": {
    "papermill": {
     "duration": 0.006437,
     "end_time": "2023-10-25T13:43:46.777677",
     "exception": false,
     "start_time": "2023-10-25T13:43:46.771240",
     "status": "completed"
    },
    "tags": []
   },
   "source": [
    "# **Search in Rotated Sorted Array**\n",
    "\n",
    "There is an integer array nums sorted in ascending order (with distinct values).\n",
    "\n",
    "Prior to being passed to your function, nums is possibly rotated at an unknown pivot index k (1 <= k < nums.length) such that the resulting array is [nums[k], nums[k+1], ..., nums[n-1], nums[0], nums[1], ..., nums[k-1]] (0-indexed). For example, [0,1,2,4,5,6,7] might be rotated at pivot index 3 and become [4,5,6,7,0,1,2].\n",
    "\n",
    "Given the array nums after the possible rotation and an integer target, return the index of target if it is in nums, or -1 if it is not in nums.\n",
    "\n",
    "You must write an algorithm with O(log n) runtime complexity.\n",
    "\n",
    "Example 1:\n",
    "\n",
    "Input: nums = [4,5,6,7,0,1,2], target = 0\n",
    "Output: 4\n",
    "\n",
    "Example 2:\n",
    "\n",
    "Input: nums = [4,5,6,7,0,1,2], target = 3\n",
    "Output: -1\n",
    "\n",
    "Example 3:\n",
    "\n",
    "Input: nums = [1], target = 0\n",
    "Output: -1\n"
   ]
  },
  {
   "cell_type": "code",
   "execution_count": 10,
   "id": "2d1bbb06",
   "metadata": {
    "execution": {
     "iopub.execute_input": "2023-10-25T13:43:46.793049Z",
     "iopub.status.busy": "2023-10-25T13:43:46.792134Z",
     "iopub.status.idle": "2023-10-25T13:43:46.799061Z",
     "shell.execute_reply": "2023-10-25T13:43:46.797804Z"
    },
    "papermill": {
     "duration": 0.017962,
     "end_time": "2023-10-25T13:43:46.802118",
     "exception": false,
     "start_time": "2023-10-25T13:43:46.784156",
     "status": "completed"
    },
    "tags": []
   },
   "outputs": [],
   "source": [
    "\n",
    "\n",
    "def Search_in_rotated_array(lst,target):\n",
    "    \n",
    "    \n",
    "    l = 0\n",
    "    r = len(lst)-1\n",
    "    \n",
    "    while l <r:\n",
    "        mid = (l+r)//2\n",
    "        \n",
    "        \n",
    "        if lst[mid]==target:\n",
    "            return mid\n",
    "        \n",
    "        if lst[l] <= lst[mid]:\n",
    "            if lst[l] < target  <= lst[mid]:\n",
    "                \n",
    "                r = mid-1 \n",
    "                \n",
    "            else:\n",
    "                l = mid + 1\n",
    "                \n",
    "        else:\n",
    "            \n",
    "            if lst[mid] < target <= lst[r]:\n",
    "                \n",
    "                l = mid +1\n",
    "                \n",
    "            else:\n",
    "                \n",
    "                r = mid -1 \n",
    "            \n",
    "    return -1             \n",
    "        \n",
    "        "
   ]
  },
  {
   "cell_type": "code",
   "execution_count": 11,
   "id": "f87c52b9",
   "metadata": {
    "execution": {
     "iopub.execute_input": "2023-10-25T13:43:46.819578Z",
     "iopub.status.busy": "2023-10-25T13:43:46.818766Z",
     "iopub.status.idle": "2023-10-25T13:43:46.825920Z",
     "shell.execute_reply": "2023-10-25T13:43:46.825131Z"
    },
    "papermill": {
     "duration": 0.018164,
     "end_time": "2023-10-25T13:43:46.828117",
     "exception": false,
     "start_time": "2023-10-25T13:43:46.809953",
     "status": "completed"
    },
    "tags": []
   },
   "outputs": [
    {
     "data": {
      "text/plain": [
       "-1"
      ]
     },
     "execution_count": 11,
     "metadata": {},
     "output_type": "execute_result"
    }
   ],
   "source": [
    "Search_in_rotated_array([1,3,1,1,1],3)"
   ]
  },
  {
   "cell_type": "markdown",
   "id": "623408b7",
   "metadata": {
    "papermill": {
     "duration": 0.006389,
     "end_time": "2023-10-25T13:43:46.841848",
     "exception": false,
     "start_time": "2023-10-25T13:43:46.835459",
     "status": "completed"
    },
    "tags": []
   },
   "source": [
    "# **3Sum**\n",
    "\n",
    "Hint\n",
    "Given an integer array nums, return all the triplets [nums[i], nums[j], nums[k]] such that i != j, i != k, and j != k, and nums[i] + nums[j] + nums[k] == 0.\n",
    "\n",
    "Notice that the solution set must not contain duplicate triplets.\n",
    "\n",
    " \n",
    "\n",
    "Example 1:\n",
    "\n",
    "Input: nums = [-1,0,1,2,-1,-4]\n",
    "Output: [[-1,-1,2],[-1,0,1]]\n",
    "Explanation: \n",
    "nums[0] + nums[1] + nums[2] = (-1) + 0 + 1 = 0.\n",
    "nums[1] + nums[2] + nums[4] = 0 + 1 + (-1) = 0.\n",
    "nums[0] + nums[3] + nums[4] = (-1) + 2 + (-1) = 0.\n",
    "The distinct triplets are [-1,0,1] and [-1,-1,2].\n",
    "Notice that the order of the output and the order of the triplets does not matter.\n",
    "\n",
    "Example 2:\n",
    "\n",
    "Input: nums = [0,1,1]\n",
    "Output: []\n",
    "Explanation: The only possible triplet does not sum up to 0.\n",
    "\n",
    "Example 3:\n",
    "\n",
    "Input: nums = [0,0,0]\n",
    "Output: [[0,0,0]]\n",
    "Explanation: The only possible triplet sums up to 0."
   ]
  },
  {
   "cell_type": "code",
   "execution_count": 12,
   "id": "47b23745",
   "metadata": {
    "execution": {
     "iopub.execute_input": "2023-10-25T13:43:46.856583Z",
     "iopub.status.busy": "2023-10-25T13:43:46.856183Z",
     "iopub.status.idle": "2023-10-25T13:43:46.867238Z",
     "shell.execute_reply": "2023-10-25T13:43:46.866057Z"
    },
    "papermill": {
     "duration": 0.021126,
     "end_time": "2023-10-25T13:43:46.869528",
     "exception": false,
     "start_time": "2023-10-25T13:43:46.848402",
     "status": "completed"
    },
    "tags": []
   },
   "outputs": [
    {
     "data": {
      "text/plain": [
       "[[-5, 1, 2], [-2, -1, 1]]"
      ]
     },
     "execution_count": 12,
     "metadata": {},
     "output_type": "execute_result"
    }
   ],
   "source": [
    "def three_sum(lst,Target = 0):\n",
    "    \n",
    "    #we will solve this using left and right pointer approch \n",
    "    \n",
    "    res = []\n",
    "    lst.sort()\n",
    "    \n",
    "    \n",
    "    for i , num in enumerate(lst):\n",
    "        \n",
    "        if i >0 and num == lst[i-1]:\n",
    "            continue \n",
    "        \n",
    "        l , r = i+1 , len(lst)-1\n",
    "        \n",
    "        while l < r:\n",
    "            \n",
    "            ThreeSum = num + lst[l] + lst[r]\n",
    "            \n",
    "            if ThreeSum > Target:\n",
    "                r -=1\n",
    "            elif ThreeSum <Target:\n",
    "                l +=1\n",
    "            else:\n",
    "                res.append([num, lst[l] ,lst[r]])\n",
    "                l +=1\n",
    "                \n",
    "                #here we will lst[l] not the number because num is not getting updating in the list\n",
    "                while lst[l] == lst[l-1] and l <r:\n",
    "                    l+=1\n",
    "    return res\n",
    "    \n",
    "    \n",
    "    \n",
    "    \n",
    "three_sum([-1,-2,-5,3,2,1],Target = -2)"
   ]
  },
  {
   "cell_type": "markdown",
   "id": "2b1cc4ae",
   "metadata": {
    "papermill": {
     "duration": 0.006471,
     "end_time": "2023-10-25T13:43:46.882774",
     "exception": false,
     "start_time": "2023-10-25T13:43:46.876303",
     "status": "completed"
    },
    "tags": []
   },
   "source": [
    "# **Container With Most Water**\n",
    "\n",
    "Hint\n",
    "You are given an integer array height of length n. There are n vertical lines drawn such that the two endpoints of the ith line are (i, 0) and (i, height[i]).\n",
    "\n",
    "Find two lines that together with the x-axis form a container, such that the container contains the most water.\n",
    "\n",
    "Return the maximum amount of water a container can store.\n",
    "\n",
    "Notice that you may not slant the container.\n",
    "\n",
    " \n",
    "\n",
    "Example 1:\n",
    "\n",
    "\n",
    "Input: height = [1,8,6,2,5,4,8,3,7]\n",
    "Output: 49\n",
    "Explanation: The above vertical lines are represented by array [1,8,6,2,5,4,8,3,7]. In this case, the max area of water (blue section) the container can contain is 49.\n",
    "\n",
    "Example 2:\n",
    "\n",
    "Input: height = [1,1]\n",
    "Output: 1\n"
   ]
  },
  {
   "cell_type": "code",
   "execution_count": 13,
   "id": "b5cef352",
   "metadata": {
    "execution": {
     "iopub.execute_input": "2023-10-25T13:43:46.898728Z",
     "iopub.status.busy": "2023-10-25T13:43:46.897928Z",
     "iopub.status.idle": "2023-10-25T13:43:46.908506Z",
     "shell.execute_reply": "2023-10-25T13:43:46.907572Z"
    },
    "papermill": {
     "duration": 0.021073,
     "end_time": "2023-10-25T13:43:46.910473",
     "exception": false,
     "start_time": "2023-10-25T13:43:46.889400",
     "status": "completed"
    },
    "tags": []
   },
   "outputs": [
    {
     "data": {
      "text/plain": [
       "72"
      ]
     },
     "execution_count": 13,
     "metadata": {},
     "output_type": "execute_result"
    }
   ],
   "source": [
    "def Most_water_area(height):\n",
    "    \n",
    "    l , r = 0 , len(height)-1\n",
    "    max_area = 0 \n",
    "    \n",
    "    while l <r:\n",
    "        \n",
    "        area = (r-l)*min(height[l],height[r])\n",
    "        max_area = max(max_area,area)\n",
    "        \n",
    "        if height[l] < height[r]:\n",
    "            \n",
    "            l+=1\n",
    "        else:\n",
    "            r-=1\n",
    "    return max_area    \n",
    "    \n",
    "Most_water_area([1,8,6,2,5,4,8,3,9,7,8])    "
   ]
  },
  {
   "cell_type": "code",
   "execution_count": null,
   "id": "9a192a21",
   "metadata": {
    "papermill": {
     "duration": 0.006493,
     "end_time": "2023-10-25T13:43:46.923728",
     "exception": false,
     "start_time": "2023-10-25T13:43:46.917235",
     "status": "completed"
    },
    "tags": []
   },
   "outputs": [],
   "source": []
  }
 ],
 "metadata": {
  "kernelspec": {
   "display_name": "Python 3",
   "language": "python",
   "name": "python3"
  },
  "language_info": {
   "codemirror_mode": {
    "name": "ipython",
    "version": 3
   },
   "file_extension": ".py",
   "mimetype": "text/x-python",
   "name": "python",
   "nbconvert_exporter": "python",
   "pygments_lexer": "ipython3",
   "version": "3.10.12"
  },
  "papermill": {
   "default_parameters": {},
   "duration": 3.96976,
   "end_time": "2023-10-25T13:43:47.249445",
   "environment_variables": {},
   "exception": null,
   "input_path": "__notebook__.ipynb",
   "output_path": "__notebook__.ipynb",
   "parameters": {},
   "start_time": "2023-10-25T13:43:43.279685",
   "version": "2.4.0"
  }
 },
 "nbformat": 4,
 "nbformat_minor": 5
}
