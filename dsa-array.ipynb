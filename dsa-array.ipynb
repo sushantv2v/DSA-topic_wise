{
 "cells": [
  {
   "cell_type": "markdown",
   "id": "23922063",
   "metadata": {
    "_cell_guid": "b1076dfc-b9ad-4769-8c92-a6c4dae69d19",
    "_uuid": "8f2839f25d086af736a60e9eeb907d3b93b6e0e5",
    "papermill": {
     "duration": 0.00435,
     "end_time": "2023-10-19T08:59:31.914867",
     "exception": false,
     "start_time": "2023-10-19T08:59:31.910517",
     "status": "completed"
    },
    "tags": []
   },
   "source": [
    "In this notebook we will be solving the DSA question of array. I am selecting few questions from \n",
    "Array\n",
    "\n",
    "- Two Sum - https://leetcode.com/problems/two-sum/\n",
    "- Best Time to Buy and Sell Stock - https://leetcode.com/problems/best-time-to-buy-and-sell-stock/\n",
    "- Contains Duplicate - https://leetcode.com/problems/contains-duplicate/\n",
    "- Product of Array Except Self - https://leetcode.com/problems/product-of-array-except-self/\n",
    "- Maximum Subarray - https://leetcode.com/problems/maximum-subarray/\n",
    "- Maximum Product Subarray - https://leetcode.com/problems/maximum-product-subarray/\n",
    "- Find Minimum in Rotated Sorted Array - https://leetcode.com/problems/find-minimum-in-rotated-sorted-array/\n",
    "- Search in Rotated Sorted Array - https://leetcode.com/problems/search-in-rotated-sorted-array/\n",
    "- 3Sum - https://leetcode.com/problems/3sum/\n",
    "- Container With Most Water - https://leetcode.com/problems/container-with-most-water/"
   ]
  },
  {
   "cell_type": "markdown",
   "id": "27feaf29",
   "metadata": {
    "papermill": {
     "duration": 0.003282,
     "end_time": "2023-10-19T08:59:31.924346",
     "exception": false,
     "start_time": "2023-10-19T08:59:31.921064",
     "status": "completed"
    },
    "tags": []
   },
   "source": [
    "# ***Two Sum***"
   ]
  },
  {
   "cell_type": "markdown",
   "id": "b9447f48",
   "metadata": {
    "papermill": {
     "duration": 0.003441,
     "end_time": "2023-10-19T08:59:31.931240",
     "exception": false,
     "start_time": "2023-10-19T08:59:31.927799",
     "status": "completed"
    },
    "tags": []
   },
   "source": [
    "[2,7,11,15]Given an array of integers nums and an integer target, return indices of the two numbers such that they add up to target.\n",
    "\n",
    "You may assume that each input would have exactly one solution, and you may not use the same element twice.\n",
    "\n",
    "You can return the answer in any order.\n",
    "\n",
    " \n",
    "\n",
    "Example 1:\n",
    "\n",
    "Input: nums = [2,7,11,15], target = 9\n",
    "Output: [0,1]\n",
    "Explanation: Because nums[0] + nums[1] == 9, we return [0, 1].\n",
    "Example 2:\n",
    "\n",
    "Input: nums = [3,2,4], target = 6\n",
    "Output: [1,2]\n",
    "Example 3:\n",
    "\n",
    "Input: nums = [3,3], target = 6\n",
    "Output: [0,1]\n",
    " "
   ]
  },
  {
   "cell_type": "code",
   "execution_count": 1,
   "id": "f45f5be1",
   "metadata": {
    "execution": {
     "iopub.execute_input": "2023-10-19T08:59:31.940014Z",
     "iopub.status.busy": "2023-10-19T08:59:31.939623Z",
     "iopub.status.idle": "2023-10-19T08:59:31.951004Z",
     "shell.execute_reply": "2023-10-19T08:59:31.949840Z"
    },
    "papermill": {
     "duration": 0.019299,
     "end_time": "2023-10-19T08:59:31.953884",
     "exception": false,
     "start_time": "2023-10-19T08:59:31.934585",
     "status": "completed"
    },
    "tags": []
   },
   "outputs": [
    {
     "name": "stdout",
     "output_type": "stream",
     "text": [
      "(0, 2)\n"
     ]
    }
   ],
   "source": [
    "def two_sum(input_array,output):\n",
    "    \n",
    "    #creating a dict to save the second numbers\n",
    "    dict_map = {}\n",
    "    \n",
    "    #looping over the list \n",
    "    for i in range(0,len(input_array)):\n",
    "        \n",
    "        #finding the second number \n",
    "        second_number=  output - input_array[i]\n",
    "        \n",
    "        #checking if it is present in dict or not \n",
    "        if second_number in dict_map:\n",
    "            return (dict_map[second_number],i)\n",
    "        \n",
    "        #adding the number to dict \n",
    "        dict_map[input_array[i]] = i\n",
    "    \n",
    "    return (-1,-1)\n",
    "        \n",
    "        \n",
    "print(two_sum([3,2,4],7))"
   ]
  },
  {
   "cell_type": "markdown",
   "id": "ad8f308a",
   "metadata": {
    "papermill": {
     "duration": 0.003519,
     "end_time": "2023-10-19T08:59:31.961463",
     "exception": false,
     "start_time": "2023-10-19T08:59:31.957944",
     "status": "completed"
    },
    "tags": []
   },
   "source": [
    "# **Best Time to Buy and Sell Stock**\n",
    "\n",
    "You are given an array prices where prices[i] is the price of a given stock on the ith day.\n",
    "\n",
    "You want to maximize your profit by choosing a single day to buy one stock and choosing a different day in the future to sell that stock.\n",
    "\n",
    "Return the maximum profit you can achieve from this transaction. If you cannot achieve any profit, return 0.\n",
    "\n",
    " \n",
    "\n",
    "Example 1:\n",
    "\n",
    "Input: prices = [7,1,5,3,6,4]\n",
    "Output: 5\n",
    "Explanation: Buy on day 2 (price = 1) and sell on day 5 (price = 6), profit = 6-1 = 5.\n",
    "Note that buying on day 2 and selling on day 1 is not allowed because you must buy before you sell.\n",
    "Example 2:\n",
    "\n",
    "Input: prices = [7,6,4,3,1]\n",
    "Output: 0\n",
    "Explanation: In this case, no transactions are done and the max profit = 0.\n"
   ]
  },
  {
   "cell_type": "code",
   "execution_count": 2,
   "id": "29dffb41",
   "metadata": {
    "execution": {
     "iopub.execute_input": "2023-10-19T08:59:31.971356Z",
     "iopub.status.busy": "2023-10-19T08:59:31.970729Z",
     "iopub.status.idle": "2023-10-19T08:59:31.980041Z",
     "shell.execute_reply": "2023-10-19T08:59:31.978897Z"
    },
    "papermill": {
     "duration": 0.016489,
     "end_time": "2023-10-19T08:59:31.982004",
     "exception": false,
     "start_time": "2023-10-19T08:59:31.965515",
     "status": "completed"
    },
    "tags": []
   },
   "outputs": [
    {
     "data": {
      "text/plain": [
       "6"
      ]
     },
     "execution_count": 2,
     "metadata": {},
     "output_type": "execute_result"
    }
   ],
   "source": [
    "def best_time_to_buy_sell(lst):\n",
    "    \n",
    "    buy, sell = lst[0],lst[0]\n",
    "    current_profit = sell - buy \n",
    "    \n",
    "    \n",
    "    for price in lst:\n",
    "        \n",
    "        if buy > price:\n",
    "            \n",
    "            buy = price\n",
    "            sell = price\n",
    "            \n",
    "        elif buy < price:\n",
    "            \n",
    "            sell = price\n",
    "            \n",
    "            if current_profit < sell-buy:\n",
    "                current_profit = sell - buy \n",
    "     \n",
    "    return current_profit \n",
    "            \n",
    "            \n",
    "    \n",
    "    \n",
    "    \n",
    "best_time_to_buy_sell([1,7,1,5,3,6,4])    \n",
    "    \n",
    "    \n",
    "    "
   ]
  },
  {
   "cell_type": "markdown",
   "id": "4ac7db42",
   "metadata": {
    "papermill": {
     "duration": 0.003572,
     "end_time": "2023-10-19T08:59:31.989594",
     "exception": false,
     "start_time": "2023-10-19T08:59:31.986022",
     "status": "completed"
    },
    "tags": []
   },
   "source": [
    "# **Contains Duplicate**\n",
    "\n",
    "Given an integer array nums, return true if any value appears at least twice in the array, and return false if every element is distinct.\n",
    "\n",
    " \n",
    "\n",
    "Example 1:\n",
    "\n",
    "Input: nums = [1,2,3,1]\n",
    "Output: true\n",
    "Example 2:\n",
    "\n",
    "Input: nums = [1,2,3,4]\n",
    "Output: false\n",
    "Example 3:\n",
    "\n",
    "Input: nums = [1,1,1,3,3,4,3,2,4,2]\n",
    "Output: true\n"
   ]
  },
  {
   "cell_type": "code",
   "execution_count": 3,
   "id": "f9692513",
   "metadata": {
    "execution": {
     "iopub.execute_input": "2023-10-19T08:59:31.999081Z",
     "iopub.status.busy": "2023-10-19T08:59:31.998389Z",
     "iopub.status.idle": "2023-10-19T08:59:32.005607Z",
     "shell.execute_reply": "2023-10-19T08:59:32.004543Z"
    },
    "papermill": {
     "duration": 0.014255,
     "end_time": "2023-10-19T08:59:32.007638",
     "exception": false,
     "start_time": "2023-10-19T08:59:31.993383",
     "status": "completed"
    },
    "tags": []
   },
   "outputs": [
    {
     "data": {
      "text/plain": [
       "True"
      ]
     },
     "execution_count": 3,
     "metadata": {},
     "output_type": "execute_result"
    }
   ],
   "source": [
    "def contain_duplicate(lst):\n",
    "    \n",
    "    nums_set = set()\n",
    "    \n",
    "    for i in lst:\n",
    "        \n",
    "        if i in nums_set:\n",
    "            return True\n",
    "        else:\n",
    "            nums_set.add(i)\n",
    "    return False        \n",
    "    \n",
    "    \n",
    "contain_duplicate([1,2,3,4,5,6,1])    "
   ]
  },
  {
   "cell_type": "markdown",
   "id": "c12b761c",
   "metadata": {
    "papermill": {
     "duration": 0.003649,
     "end_time": "2023-10-19T08:59:32.015402",
     "exception": false,
     "start_time": "2023-10-19T08:59:32.011753",
     "status": "completed"
    },
    "tags": []
   },
   "source": [
    "# **Product of Array Except Self**\n",
    "\n",
    "Given an integer array nums, return an array answer such that answer[i] is equal to the product of all the elements of nums except nums[i].\n",
    "\n",
    "The product of any prefix or suffix of nums is guaranteed to fit in a 32-bit integer.\n",
    "\n",
    "You must write an algorithm that runs in O(n) time and without using the division operation.\n",
    "\n",
    " \n",
    "\n",
    "Example 1:\n",
    "\n",
    "Input: nums = [1,2,3,4]\n",
    "Output: [24,12,8,6]\n",
    "\n",
    "Example 2:\n",
    "\n",
    "Input: nums = [-1,1,0,-3,3]\n",
    "Output: [0,0,9,0,0]\n",
    " \n",
    "\n",
    "Constraints:\n",
    "\n",
    "2 <= nums.length <= 105\n",
    "-30 <= nums[i] <= 30\n",
    "The product of any prefix or suffix of nums is guaranteed to fit in a 32-bit integer.\n",
    " \n",
    "\n",
    "Follow up: Can you solve the problem in O(1) extra space complexity? (The output array does not count as extra space for space complexity analysis.)"
   ]
  },
  {
   "cell_type": "code",
   "execution_count": 4,
   "id": "3365cf5f",
   "metadata": {
    "execution": {
     "iopub.execute_input": "2023-10-19T08:59:32.024786Z",
     "iopub.status.busy": "2023-10-19T08:59:32.024466Z",
     "iopub.status.idle": "2023-10-19T08:59:32.033332Z",
     "shell.execute_reply": "2023-10-19T08:59:32.032329Z"
    },
    "papermill": {
     "duration": 0.016161,
     "end_time": "2023-10-19T08:59:32.035378",
     "exception": false,
     "start_time": "2023-10-19T08:59:32.019217",
     "status": "completed"
    },
    "tags": []
   },
   "outputs": [
    {
     "data": {
      "text/plain": [
       "[24, 12, 8, 6]"
      ]
     },
     "execution_count": 4,
     "metadata": {},
     "output_type": "execute_result"
    }
   ],
   "source": [
    "#watch this video : https://www.youtube.com/watch?v=G9zKmhybKBM\n",
    "\n",
    "def array_except_self(lst):\n",
    "    #for edge case where list have only one element\n",
    "    \n",
    "    if len(lst)==1:\n",
    "        return [0]\n",
    "    \n",
    "    #creating 3 list \n",
    "    left_array = [0]*len(lst)\n",
    "    right_array = [0]*len(lst)\n",
    "    prod = [0]*len(lst)\n",
    "    \n",
    "    left_array[0] = 1\n",
    "    right_array[-1] = 1\n",
    "    \n",
    "    for i in range(1,len(lst)):\n",
    "        \n",
    "        left_array[i] = left_array[i-1]*lst[i-1]\n",
    "        \n",
    "    for i in range(len(lst)-2,-1,-1):\n",
    "        \n",
    "        right_array[i] = right_array[i+1]*lst[i+1]  \n",
    "    \n",
    "    for i in range(0,len(lst)):\n",
    "        \n",
    "        prod[i] =  left_array[i]*right_array[i]\n",
    "    \n",
    "    return prod  \n",
    "        \n",
    "        \n",
    "        \n",
    "array_except_self([1,2,3,4])        "
   ]
  },
  {
   "cell_type": "markdown",
   "id": "c681b1f1",
   "metadata": {
    "papermill": {
     "duration": 0.003632,
     "end_time": "2023-10-19T08:59:32.043130",
     "exception": false,
     "start_time": "2023-10-19T08:59:32.039498",
     "status": "completed"
    },
    "tags": []
   },
   "source": [
    "# **Maximum Subarray**\n",
    "\n",
    "Given an integer array nums, find the \n",
    "subarray\n",
    " with the largest sum, and return its sum.\n",
    "\n",
    " \n",
    "\n",
    "Example 1:\n",
    "\n",
    "Input: nums = [-2,1,-3,4,-1,2,1,-5,4]\n",
    "Output: 6\n",
    "Explanation: The subarray [4,-1,2,1] has the largest sum 6.\n",
    "Example 2:\n",
    "\n",
    "Input: nums = [1]\n",
    "Output: 1\n",
    "Explanation: The subarray [1] has the largest sum 1.\n",
    "Example 3:\n",
    "\n",
    "Input: nums = [5,4,-1,7,8]\n",
    "Output: 23\n",
    "Explanation: The subarray [5,4,-1,7,8] has the largest sum 23."
   ]
  },
  {
   "cell_type": "code",
   "execution_count": 5,
   "id": "aeb6cea1",
   "metadata": {
    "execution": {
     "iopub.execute_input": "2023-10-19T08:59:32.052515Z",
     "iopub.status.busy": "2023-10-19T08:59:32.052189Z",
     "iopub.status.idle": "2023-10-19T08:59:32.060319Z",
     "shell.execute_reply": "2023-10-19T08:59:32.059310Z"
    },
    "papermill": {
     "duration": 0.0155,
     "end_time": "2023-10-19T08:59:32.062422",
     "exception": false,
     "start_time": "2023-10-19T08:59:32.046922",
     "status": "completed"
    },
    "tags": []
   },
   "outputs": [
    {
     "data": {
      "text/plain": [
       "6"
      ]
     },
     "execution_count": 5,
     "metadata": {},
     "output_type": "execute_result"
    }
   ],
   "source": [
    "#watch this video : https://www.youtube.com/watch?v=HCL4_bOd3-4&t=637s\n",
    "\n",
    "#here we changed final max to large negartive to handle edgecase where all the element in list are negative\n",
    "\n",
    "#problem of DPP \n",
    "\n",
    "def kaddanse_algo_method(lst):\n",
    "    \n",
    "    \n",
    "    current_max = 0\n",
    "    final_max = -1000000\n",
    "    \n",
    "    for i in lst:\n",
    "        \n",
    "        current_max = current_max + i\n",
    "        \n",
    "        if current_max > final_max:\n",
    "            final_max = current_max\n",
    "        \n",
    "        if current_max <0:\n",
    "            current_max = 0\n",
    "            \n",
    "    return final_max        \n",
    "\n",
    "kaddanse_algo_method([-2,1,-3,4,-1,2,1,-5,4])"
   ]
  },
  {
   "cell_type": "markdown",
   "id": "9d434720",
   "metadata": {
    "papermill": {
     "duration": 0.003766,
     "end_time": "2023-10-19T08:59:32.070363",
     "exception": false,
     "start_time": "2023-10-19T08:59:32.066597",
     "status": "completed"
    },
    "tags": []
   },
   "source": [
    "#  **Maximum Product Subarray**\n",
    "\n",
    "Given an integer array nums, find a \n",
    "subarray\n",
    " that has the largest product, and return the product.\n",
    "\n",
    "The test cases are generated so that the answer will fit in a 32-bit integer.\n",
    "\n",
    " \n",
    "\n",
    "Example 1:\n",
    "\n",
    "Input: nums = [2,3,-2,4]\n",
    "Output: 6\n",
    "Explanation: [2,3] has the largest product 6.\n",
    "\n",
    "Example 2:\n",
    "\n",
    "Input: nums = [-2,0,-1]\n",
    "Output: 0\n",
    "Explanation: The result cannot be 2, because [-2,-1] is not a subarray.\n",
    " \n",
    "\n",
    "Constraints:\n",
    "\n",
    "1 <= nums.length <= 2 * 104\n",
    "-10 <= nums[i] <= 10\n",
    "The product of any prefix or suffix of nums is guaranteed to fit in a 32-bit integer."
   ]
  },
  {
   "cell_type": "code",
   "execution_count": 6,
   "id": "4c0d9b2b",
   "metadata": {
    "execution": {
     "iopub.execute_input": "2023-10-19T08:59:32.079800Z",
     "iopub.status.busy": "2023-10-19T08:59:32.079501Z",
     "iopub.status.idle": "2023-10-19T08:59:32.087744Z",
     "shell.execute_reply": "2023-10-19T08:59:32.086717Z"
    },
    "papermill": {
     "duration": 0.015639,
     "end_time": "2023-10-19T08:59:32.089869",
     "exception": false,
     "start_time": "2023-10-19T08:59:32.074230",
     "status": "completed"
    },
    "tags": []
   },
   "outputs": [
    {
     "data": {
      "text/plain": [
       "49896"
      ]
     },
     "execution_count": 6,
     "metadata": {},
     "output_type": "execute_result"
    }
   ],
   "source": [
    "def max_product_subarray(lst):\n",
    "    \n",
    "    max_prod = 1\n",
    "    min_prod = 1 \n",
    "    ans = lst[0]\n",
    "    \n",
    "    if len(lst)==1:\n",
    "        return lst[0]\n",
    "    \n",
    "    \n",
    "    for i in range(0,len(lst)):\n",
    "        \n",
    "        \n",
    "        if lst[i] <0:\n",
    "            # because after multyping it by negative once it will interchange \n",
    "            max_prod , min_prod = min_prod, max_prod \n",
    "        #finding max product as positive prod         \n",
    "        max_prod = max(lst[i], max_prod*lst[i])\n",
    "        #also saving min prod so if negative will come i will switch back on it \n",
    "        min_prod = min(lst[i], min_prod*lst[i])\n",
    "            \n",
    "            \n",
    "            \n",
    "        ans = max(ans,max_prod )\n",
    "    return ans         \n",
    "    \n",
    "    \n",
    "    \n",
    "max_product_subarray([1,2,-5,-44,54,-21])    \n",
    "    \n",
    "    \n",
    "    "
   ]
  },
  {
   "cell_type": "code",
   "execution_count": 7,
   "id": "2c76ae8b",
   "metadata": {
    "execution": {
     "iopub.execute_input": "2023-10-19T08:59:32.099940Z",
     "iopub.status.busy": "2023-10-19T08:59:32.099608Z",
     "iopub.status.idle": "2023-10-19T08:59:32.105596Z",
     "shell.execute_reply": "2023-10-19T08:59:32.104772Z"
    },
    "papermill": {
     "duration": 0.013044,
     "end_time": "2023-10-19T08:59:32.107555",
     "exception": false,
     "start_time": "2023-10-19T08:59:32.094511",
     "status": "completed"
    },
    "tags": []
   },
   "outputs": [],
   "source": [
    "def binary_search(arr, x):\n",
    "    \"\"\"\n",
    "    Perform binary search to find x in arr\n",
    "    \n",
    "    :param arr: A sorted list of items.\n",
    "    :param x: The item to search for.\n",
    "    :return: The index of x if x exists in arr, otherwise -1.\n",
    "    \"\"\"\n",
    "    l = 0\n",
    "    r = len(arr) - 1\n",
    "\n",
    "    while l <= r:\n",
    "        mid = (l + r) // 2\n",
    "        \n",
    "        # If the element is present at the middle itself\n",
    "        if arr[mid] == x:\n",
    "            return mid\n",
    "        \n",
    "        # If element is smaller than mid, then it can only be present in the left subarray\n",
    "        elif arr[mid] < x:\n",
    "            l = mid + 1\n",
    "        \n",
    "        # Else the element can only be present in the right subarray\n",
    "        else:\n",
    "            r = mid - 1\n",
    "\n",
    "    # If we reach here, then the element was not present in the array\n",
    "    return -1\n"
   ]
  },
  {
   "cell_type": "code",
   "execution_count": 8,
   "id": "26035a38",
   "metadata": {
    "execution": {
     "iopub.execute_input": "2023-10-19T08:59:32.117199Z",
     "iopub.status.busy": "2023-10-19T08:59:32.116882Z",
     "iopub.status.idle": "2023-10-19T08:59:32.123081Z",
     "shell.execute_reply": "2023-10-19T08:59:32.121869Z"
    },
    "papermill": {
     "duration": 0.013441,
     "end_time": "2023-10-19T08:59:32.125046",
     "exception": false,
     "start_time": "2023-10-19T08:59:32.111605",
     "status": "completed"
    },
    "tags": []
   },
   "outputs": [
    {
     "name": "stdout",
     "output_type": "stream",
     "text": [
      "Element 7 is present at index 6\n"
     ]
    }
   ],
   "source": [
    "arr = [1, 2, 3, 4, 5, 6, 7, 8, 9, 10]\n",
    "x = 7\n",
    "\n",
    "# Call the function\n",
    "index = binary_search(arr, x)\n",
    "\n",
    "if index != -1:\n",
    "    print(f\"Element {x} is present at index {index}\")\n",
    "else:\n",
    "    print(f\"Element {x} is not present in the array\")\n"
   ]
  },
  {
   "cell_type": "code",
   "execution_count": null,
   "id": "921e7a18",
   "metadata": {
    "papermill": {
     "duration": 0.004419,
     "end_time": "2023-10-19T08:59:32.133698",
     "exception": false,
     "start_time": "2023-10-19T08:59:32.129279",
     "status": "completed"
    },
    "tags": []
   },
   "outputs": [],
   "source": []
  }
 ],
 "metadata": {
  "kernelspec": {
   "display_name": "Python 3",
   "language": "python",
   "name": "python3"
  },
  "language_info": {
   "codemirror_mode": {
    "name": "ipython",
    "version": 3
   },
   "file_extension": ".py",
   "mimetype": "text/x-python",
   "name": "python",
   "nbconvert_exporter": "python",
   "pygments_lexer": "ipython3",
   "version": "3.10.12"
  },
  "papermill": {
   "default_parameters": {},
   "duration": 3.729135,
   "end_time": "2023-10-19T08:59:32.557969",
   "environment_variables": {},
   "exception": null,
   "input_path": "__notebook__.ipynb",
   "output_path": "__notebook__.ipynb",
   "parameters": {},
   "start_time": "2023-10-19T08:59:28.828834",
   "version": "2.4.0"
  }
 },
 "nbformat": 4,
 "nbformat_minor": 5
}
